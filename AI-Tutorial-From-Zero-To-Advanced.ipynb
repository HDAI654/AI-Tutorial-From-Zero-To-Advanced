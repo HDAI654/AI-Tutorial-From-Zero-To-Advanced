{
  "cells": [
    {
      "cell_type": "markdown",
      "metadata": {
        "id": "KDGiGi8Kfpy4"
      },
      "source": [
        "# **Essential Python Libraries for AI: NumPy, Pandas, and Matplotlib**"
      ]
    },
    {
      "cell_type": "markdown",
      "metadata": {
        "id": "U_BOm3smf3MP"
      },
      "source": [
        "## Numpy"
      ]
    },
    {
      "cell_type": "code",
      "execution_count": null,
      "metadata": {
        "id": "dAyx6Xazf5qN"
      },
      "outputs": [],
      "source": [
        "import numpy as np"
      ]
    },
    {
      "cell_type": "markdown",
      "metadata": {
        "id": "J7Ta4WhPg2SQ"
      },
      "source": [
        "### Matrix and Array"
      ]
    },
    {
      "cell_type": "code",
      "execution_count": null,
      "metadata": {
        "colab": {
          "base_uri": "https://localhost:8080/"
        },
        "id": "pyqpKXoKf_5D",
        "outputId": "b0c92143-718c-4ac3-fc1d-87a23fc89576"
      },
      "outputs": [
        {
          "name": "stdout",
          "output_type": "stream",
          "text": [
            "[ 6  5  9 40]\n"
          ]
        }
      ],
      "source": [
        "# create array\n",
        "myArray = np.array([6, 5, 9, 40])\n",
        "print(myArray)"
      ]
    },
    {
      "cell_type": "code",
      "execution_count": null,
      "metadata": {
        "colab": {
          "base_uri": "https://localhost:8080/"
        },
        "id": "sTkXfMHOgHC2",
        "outputId": "c4a03467-889f-4ec5-837c-f0ddbae1d851"
      },
      "outputs": [
        {
          "name": "stdout",
          "output_type": "stream",
          "text": [
            "[[45 85 95]\n",
            " [25 78  9]\n",
            " [ 1  0  3]]\n"
          ]
        }
      ],
      "source": [
        "# create matrix\n",
        "myMatrix = np.array([[45, 85, 95], [25, 78, 9], [1, 0, 3]])\n",
        "print(myMatrix)"
      ]
    },
    {
      "cell_type": "markdown",
      "metadata": {
        "id": "IiDfv0Lbkboi"
      },
      "source": [
        "### Shape and Reshape"
      ]
    },
    {
      "cell_type": "code",
      "execution_count": null,
      "metadata": {
        "id": "A00Pu0g5kxU1"
      },
      "outputs": [],
      "source": [
        "myArray = np.array([6, 5, 9, 40])\n",
        "myMatrix = np.array([[45, 85, 95], [25, 78, 9], [1, 0, 3]])"
      ]
    },
    {
      "cell_type": "code",
      "execution_count": null,
      "metadata": {
        "colab": {
          "base_uri": "https://localhost:8080/"
        },
        "id": "IqJKUIoeg-lq",
        "outputId": "1a208ff6-f281-4d8e-ddb4-ff2c6a176b55"
      },
      "outputs": [
        {
          "name": "stdout",
          "output_type": "stream",
          "text": [
            "array shape\n",
            "(4,)\n"
          ]
        }
      ],
      "source": [
        "print(\"array shape\")\n",
        "print(myArray.shape)"
      ]
    },
    {
      "cell_type": "code",
      "execution_count": null,
      "metadata": {
        "colab": {
          "base_uri": "https://localhost:8080/"
        },
        "id": "E_d8JjqLhUmc",
        "outputId": "de2b5fd3-cdc1-4645-9b95-61c5c5864ee7"
      },
      "outputs": [
        {
          "name": "stdout",
          "output_type": "stream",
          "text": [
            "matrix shape\n",
            "(3, 3)\n"
          ]
        }
      ],
      "source": [
        "print(\"matrix shape\")\n",
        "print(myMatrix.shape)"
      ]
    },
    {
      "cell_type": "code",
      "execution_count": null,
      "metadata": {
        "colab": {
          "base_uri": "https://localhost:8080/"
        },
        "id": "K3DEdwzzhVFv",
        "outputId": "89e8d667-64f5-4fb9-9061-39140f5e9430"
      },
      "outputs": [
        {
          "name": "stdout",
          "output_type": "stream",
          "text": [
            "[[ 6]\n",
            " [ 5]\n",
            " [ 9]\n",
            " [40]]\n"
          ]
        }
      ],
      "source": [
        "# reshape array\n",
        "reshapedArray = myArray.reshape((4,1))\n",
        "print(reshapedArray)"
      ]
    },
    {
      "cell_type": "code",
      "execution_count": null,
      "metadata": {
        "colab": {
          "base_uri": "https://localhost:8080/"
        },
        "id": "Nwkil42ghcu1",
        "outputId": "b80d6780-56ff-46fe-f047-9f7c0982c3f8"
      },
      "outputs": [
        {
          "name": "stdout",
          "output_type": "stream",
          "text": [
            "The Shape : (2, 2, 1)\n",
            "[[[ 6]\n",
            "  [ 5]]\n",
            "\n",
            " [[ 9]\n",
            "  [40]]]\n"
          ]
        }
      ],
      "source": [
        "# reshape array\n",
        "reshapedArray = myArray.reshape((2, 2, 1))\n",
        "print(f\"The Shape : {reshapedArray.shape}\")\n",
        "print(reshapedArray)"
      ]
    },
    {
      "cell_type": "code",
      "execution_count": null,
      "metadata": {
        "colab": {
          "base_uri": "https://localhost:8080/"
        },
        "id": "dtVyeOathhlS",
        "outputId": "3f81bcd6-5277-416c-cfee-3a3f571bd6cc"
      },
      "outputs": [
        {
          "name": "stdout",
          "output_type": "stream",
          "text": [
            "The Shape : (2, 1, 2)\n",
            "[[[ 6  5]]\n",
            "\n",
            " [[ 9 40]]]\n"
          ]
        }
      ],
      "source": [
        "# reshape array\n",
        "reshapedArray = myArray.reshape((2, 1, 2))\n",
        "print(f\"The Shape : {reshapedArray.shape}\")\n",
        "print(reshapedArray)"
      ]
    },
    {
      "cell_type": "code",
      "execution_count": null,
      "metadata": {
        "colab": {
          "base_uri": "https://localhost:8080/"
        },
        "id": "8acS23rOidrL",
        "outputId": "be15cf17-52eb-421e-cb5c-1ce0965120ab"
      },
      "outputs": [
        {
          "name": "stdout",
          "output_type": "stream",
          "text": [
            "The Shape : (2, 2, 1)\n",
            "[[[ 6]\n",
            "  [ 5]]\n",
            "\n",
            " [[ 9]\n",
            "  [40]]]\n"
          ]
        }
      ],
      "source": [
        "# reshape array\n",
        "reshapedArray = myArray.reshape((-1, 2, 1)) # -1 means the max size of a side\n",
        "print(f\"The Shape : {reshapedArray.shape}\")\n",
        "print(reshapedArray)"
      ]
    },
    {
      "cell_type": "markdown",
      "metadata": {
        "id": "fabMytIkkgZJ"
      },
      "source": [
        "### Concatenate"
      ]
    },
    {
      "cell_type": "code",
      "execution_count": null,
      "metadata": {
        "colab": {
          "base_uri": "https://localhost:8080/"
        },
        "id": "1X6dvs0Zi5cE",
        "outputId": "c6072750-bb71-4793-cd21-15a176eaea09"
      },
      "outputs": [
        {
          "name": "stdout",
          "output_type": "stream",
          "text": [
            "[1 2 3 4 5 6 8]\n"
          ]
        }
      ],
      "source": [
        "# concatenate\n",
        "a = np.array([1, 2, 3])\n",
        "b = np.array([4, 5, 6, 8])\n",
        "c = np.concatenate((a, b))\n",
        "print(c)"
      ]
    },
    {
      "cell_type": "markdown",
      "metadata": {
        "id": "MVUXBYwtkoNf"
      },
      "source": [
        "### Mathematical Operations"
      ]
    },
    {
      "cell_type": "code",
      "execution_count": null,
      "metadata": {
        "id": "z7k2eSZujNx-"
      },
      "outputs": [],
      "source": [
        "# Mathematical Operations\n",
        "n = np.array([10, 20, 30])\n",
        "m = np.array([101, 21, 38])\n",
        "s = np.array([7])"
      ]
    },
    {
      "cell_type": "code",
      "execution_count": null,
      "metadata": {
        "colab": {
          "base_uri": "https://localhost:8080/"
        },
        "id": "qT7gueNTjwB6",
        "outputId": "f1ab948e-30a2-44b8-cda9-4cf2bfca7168"
      },
      "outputs": [
        {
          "name": "stdout",
          "output_type": "stream",
          "text": [
            "n*m  ==>  [1010  420 1140]\n",
            "n*s  ==>  [ 70 140 210]\n",
            "m*s  ==>  [707 147 266]\n"
          ]
        }
      ],
      "source": [
        "print(f\"n*m  ==>  {n*m}\")\n",
        "print(f\"n*s  ==>  {n*s}\")\n",
        "print(f\"m*s  ==>  {m*s}\")"
      ]
    },
    {
      "cell_type": "code",
      "execution_count": null,
      "metadata": {
        "colab": {
          "base_uri": "https://localhost:8080/"
        },
        "id": "L0h3CDd0jxUi",
        "outputId": "6d450370-08fd-4b86-be5b-09b464b8f6b1"
      },
      "outputs": [
        {
          "name": "stdout",
          "output_type": "stream",
          "text": [
            "n+m  ==>  [111  41  68]\n",
            "n+s  ==>  [17 27 37]\n",
            "m+s  ==>  [108  28  45]\n"
          ]
        }
      ],
      "source": [
        "print(f\"n+m  ==>  {n+m}\")\n",
        "print(f\"n+s  ==>  {n+s}\")\n",
        "print(f\"m+s  ==>  {m+s}\")"
      ]
    },
    {
      "cell_type": "code",
      "execution_count": null,
      "metadata": {
        "colab": {
          "base_uri": "https://localhost:8080/"
        },
        "id": "0yxKJmh8j4BR",
        "outputId": "368f73ba-e121-46e6-b884-348f078fb48f"
      },
      "outputs": [
        {
          "name": "stdout",
          "output_type": "stream",
          "text": [
            "n-m  ==>  [-91  -1  -8]\n",
            "n-s  ==>  [ 3 13 23]\n",
            "m-s  ==>  [94 14 31]\n"
          ]
        }
      ],
      "source": [
        "print(f\"n-m  ==>  {n-m}\")\n",
        "print(f\"n-s  ==>  {n-s}\")\n",
        "print(f\"m-s  ==>  {m-s}\")"
      ]
    },
    {
      "cell_type": "code",
      "execution_count": null,
      "metadata": {
        "colab": {
          "base_uri": "https://localhost:8080/"
        },
        "id": "UFGmnYRFj7kK",
        "outputId": "9714aa66-a5fc-43da-97a3-b7c20b7f1720"
      },
      "outputs": [
        {
          "name": "stdout",
          "output_type": "stream",
          "text": [
            "n/m  ==>  [0.0990099  0.95238095 0.78947368]\n",
            "n/s  ==>  [1.42857143 2.85714286 4.28571429]\n",
            "m/s  ==>  [14.42857143  3.          5.42857143]\n"
          ]
        }
      ],
      "source": [
        "print(f\"n/m  ==>  {n/m}\")\n",
        "print(f\"n/s  ==>  {n/s}\")\n",
        "print(f\"m/s  ==>  {m/s}\")"
      ]
    },
    {
      "cell_type": "markdown",
      "metadata": {
        "id": "rJyQLAXXlAaO"
      },
      "source": [
        "### Slicing"
      ]
    },
    {
      "cell_type": "code",
      "execution_count": null,
      "metadata": {
        "colab": {
          "base_uri": "https://localhost:8080/"
        },
        "id": "73F5zGhalZeA",
        "outputId": "997b6f2f-6b3a-42de-8de8-c66e373d6a15"
      },
      "outputs": [
        {
          "name": "stdout",
          "output_type": "stream",
          "text": [
            "myArray[2:5:2]  ==>  [3 5]\n",
            "myArray[4:0:-1] ==>  [5 4 3 2]\n"
          ]
        }
      ],
      "source": [
        "myArray = np.array([1, 2, 3, 4, 5, 6])\n",
        "print(f\"myArray[2:5:2]  ==>  {myArray[2:5:2]}\")  # array[start:end:step]\n",
        "print(f\"myArray[4:0:-1] ==>  {myArray[4:0:-1]}\") # when the step is -1 we can see a reverse array"
      ]
    },
    {
      "cell_type": "markdown",
      "metadata": {
        "id": "IeJVFP9smfPr"
      },
      "source": [
        "### Min , Max , Sort , Sum"
      ]
    },
    {
      "cell_type": "code",
      "execution_count": null,
      "metadata": {
        "id": "9DpRUfpzmn22"
      },
      "outputs": [],
      "source": [
        "myArray = np.array([5, 2, 9, 10, 14, 0, 125, 6, 3, 7])"
      ]
    },
    {
      "cell_type": "code",
      "execution_count": null,
      "metadata": {
        "colab": {
          "base_uri": "https://localhost:8080/"
        },
        "id": "Ct8IYz6HmzqI",
        "outputId": "7bf0fbe4-f41d-441d-9e6d-fbf1e6cf2b89"
      },
      "outputs": [
        {
          "name": "stdout",
          "output_type": "stream",
          "text": [
            "The smallest amount  ==>  0\n"
          ]
        }
      ],
      "source": [
        "print(f\"The smallest amount  ==>  {np.min(myArray)}\")"
      ]
    },
    {
      "cell_type": "code",
      "execution_count": null,
      "metadata": {
        "colab": {
          "base_uri": "https://localhost:8080/"
        },
        "id": "TjKUWMe6mzhO",
        "outputId": "be96db7b-3cab-4ca3-dbed-9b41a3935b43"
      },
      "outputs": [
        {
          "name": "stdout",
          "output_type": "stream",
          "text": [
            "The largest amount  ==>  125\n"
          ]
        }
      ],
      "source": [
        "print(f\"The largest amount  ==>  {np.max(myArray)}\")"
      ]
    },
    {
      "cell_type": "code",
      "execution_count": null,
      "metadata": {
        "colab": {
          "base_uri": "https://localhost:8080/"
        },
        "id": "CPgjneJxmzYp",
        "outputId": "d3f65856-5d37-4bb6-9d38-44e932e1fedd"
      },
      "outputs": [
        {
          "name": "stdout",
          "output_type": "stream",
          "text": [
            "Sorted array  ==>  [  0   2   3   5   6   7   9  10  14 125]\n"
          ]
        }
      ],
      "source": [
        "print(f\"Sorted array  ==>  {np.sort(myArray)}\")"
      ]
    },
    {
      "cell_type": "code",
      "execution_count": null,
      "metadata": {
        "colab": {
          "base_uri": "https://localhost:8080/"
        },
        "id": "8b4SkwpvmsW5",
        "outputId": "bc5ca68c-46a0-48f5-ccd9-e449b7abafe3"
      },
      "outputs": [
        {
          "name": "stdout",
          "output_type": "stream",
          "text": [
            "Sum of all values  ==>  181\n"
          ]
        }
      ],
      "source": [
        "print(f\"Sum of all values  ==>  {np.sum(myArray)}\")"
      ]
    },
    {
      "cell_type": "markdown",
      "metadata": {
        "id": "PRIA_HNZnqrn"
      },
      "source": [
        "### Random"
      ]
    },
    {
      "cell_type": "code",
      "execution_count": null,
      "metadata": {
        "colab": {
          "base_uri": "https://localhost:8080/"
        },
        "id": "UMTthYFTnrys",
        "outputId": "87a0bc99-ea7b-498a-c72b-0e0dd673c66c"
      },
      "outputs": [
        {
          "name": "stdout",
          "output_type": "stream",
          "text": [
            "[[8 8 2]\n",
            " [6 8 6]\n",
            " [2 3 4]\n",
            " [7 6 2]\n",
            " [2 2 8]]\n"
          ]
        }
      ],
      "source": [
        "randomArray = np.random.randint(2, 9, (5,3)) # start, end, shape\n",
        "print(randomArray)"
      ]
    },
    {
      "cell_type": "markdown",
      "metadata": {
        "id": "0yrk21LboA6r"
      },
      "source": [
        "### Stack"
      ]
    },
    {
      "cell_type": "code",
      "execution_count": null,
      "metadata": {
        "id": "0GYd54LjoB_-"
      },
      "outputs": [],
      "source": [
        "a = np.array([1, 2, 3])\n",
        "b = np.array([4, 5, 4])"
      ]
    },
    {
      "cell_type": "code",
      "execution_count": null,
      "metadata": {
        "colab": {
          "base_uri": "https://localhost:8080/"
        },
        "id": "fpsvXSC5oOBH",
        "outputId": "97739df9-c30e-4d30-e6e9-1f6852e11991"
      },
      "outputs": [
        {
          "name": "stdout",
          "output_type": "stream",
          "text": [
            "Horizontal stacked arrays  ==>  [1 2 3 4 5 4]\n"
          ]
        }
      ],
      "source": [
        "# horizontal stack\n",
        "c = np.hstack((a, b))\n",
        "print(f\"Horizontal stacked arrays  ==>  {c}\")"
      ]
    },
    {
      "cell_type": "code",
      "execution_count": null,
      "metadata": {
        "colab": {
          "base_uri": "https://localhost:8080/"
        },
        "id": "yQvV21byobH3",
        "outputId": "d0f7641b-7c40-40f0-9fe9-5f46662f3e0c"
      },
      "outputs": [
        {
          "name": "stdout",
          "output_type": "stream",
          "text": [
            "Vertically stacked arrays  ==>  [[1 2 3]\n",
            " [4 5 4]]\n"
          ]
        }
      ],
      "source": [
        "# vertical  stack\n",
        "c = np.vstack((a, b))\n",
        "print(f\"Vertically stacked arrays  ==>  {c}\")"
      ]
    },
    {
      "cell_type": "markdown",
      "metadata": {
        "id": "9uQ3R58JouAt"
      },
      "source": [
        "### Calculate the standard deviation (std)"
      ]
    },
    {
      "cell_type": "code",
      "execution_count": null,
      "metadata": {
        "id": "kYLRCrKWpENL"
      },
      "outputs": [],
      "source": [
        "myArray = np.array([1, 2, 3, 4, 5])"
      ]
    },
    {
      "cell_type": "code",
      "execution_count": null,
      "metadata": {
        "colab": {
          "base_uri": "https://localhost:8080/"
        },
        "id": "-oNQoPdfpMBQ",
        "outputId": "e6fcfd77-35ef-4c88-92ec-594c33e4c4c4"
      },
      "outputs": [
        {
          "name": "stdout",
          "output_type": "stream",
          "text": [
            "standard deviation   ==>  1.4142135623730951\n"
          ]
        }
      ],
      "source": [
        "print(f\"standard deviation   ==>  {np.std(myArray)}\")"
      ]
    },
    {
      "cell_type": "markdown",
      "metadata": {
        "id": "8_Fwx0QWpzBO"
      },
      "source": [
        "### Calculate the mean"
      ]
    },
    {
      "cell_type": "code",
      "execution_count": null,
      "metadata": {
        "id": "MKulsePqp8jB"
      },
      "outputs": [],
      "source": [
        "myArray = np.array([1, 2, 3, 4, 5])"
      ]
    },
    {
      "cell_type": "code",
      "execution_count": null,
      "metadata": {
        "colab": {
          "base_uri": "https://localhost:8080/"
        },
        "id": "W6JGIVhIqBD6",
        "outputId": "1e1118c1-77e9-4a3c-eab9-9147cb747eb1"
      },
      "outputs": [
        {
          "name": "stdout",
          "output_type": "stream",
          "text": [
            "mean   ==>  3.0\n"
          ]
        }
      ],
      "source": [
        "print(f\"mean   ==>  {np.mean(myArray)}\")"
      ]
    },
    {
      "cell_type": "markdown",
      "metadata": {
        "id": "yaktxqrCqFEg"
      },
      "source": [
        "### Calculate the Variance"
      ]
    },
    {
      "cell_type": "code",
      "execution_count": null,
      "metadata": {
        "id": "anwF_4J6qLXu"
      },
      "outputs": [],
      "source": [
        "myArray = np.array([1, 2, 3, 4, 5])"
      ]
    },
    {
      "cell_type": "code",
      "execution_count": null,
      "metadata": {
        "colab": {
          "base_uri": "https://localhost:8080/"
        },
        "id": "K7h2v3D2qMUd",
        "outputId": "ef6ae777-2b7e-42e2-f211-b36d63bbb349"
      },
      "outputs": [
        {
          "name": "stdout",
          "output_type": "stream",
          "text": [
            "Variance   ==>  2.0\n"
          ]
        }
      ],
      "source": [
        "print(f\"Variance   ==>  {np.var(myArray)}\")"
      ]
    },
    {
      "cell_type": "markdown",
      "metadata": {
        "id": "Xv4uQWUVqnOi"
      },
      "source": [
        "### Manual normalization"
      ]
    },
    {
      "cell_type": "code",
      "execution_count": null,
      "metadata": {
        "id": "jx5W7T-VqoTF"
      },
      "outputs": [],
      "source": [
        "myArray = np.array([1, 2, 3, 4, 5])"
      ]
    },
    {
      "cell_type": "code",
      "execution_count": null,
      "metadata": {
        "id": "VidKeRSUqsZl"
      },
      "outputs": [],
      "source": [
        "mean = np.mean(myArray)\n",
        "std = np.std(myArray)"
      ]
    },
    {
      "cell_type": "code",
      "execution_count": null,
      "metadata": {
        "colab": {
          "base_uri": "https://localhost:8080/"
        },
        "id": "5gyQMOqUqyIu",
        "outputId": "414261db-0fdc-4d84-ece5-4e913940e1ba"
      },
      "outputs": [
        {
          "name": "stdout",
          "output_type": "stream",
          "text": [
            "normalized Array ==>  [-1.41421356 -0.70710678  0.          0.70710678  1.41421356]\n"
          ]
        }
      ],
      "source": [
        "normalizedArray = (myArray - mean) / std\n",
        "print(f\"normalized Array ==>  {normalizedArray}\")"
      ]
    },
    {
      "cell_type": "markdown",
      "metadata": {
        "id": "Djxn24MgrONX"
      },
      "source": [
        "## Pandas"
      ]
    },
    {
      "cell_type": "code",
      "execution_count": null,
      "metadata": {
        "id": "S2iPPwBXrPs-"
      },
      "outputs": [],
      "source": [
        "import pandas as pd"
      ]
    },
    {
      "cell_type": "markdown",
      "metadata": {
        "id": "ypFUd_79uP8Y"
      },
      "source": [
        "### Data Frame"
      ]
    },
    {
      "cell_type": "code",
      "execution_count": null,
      "metadata": {
        "id": "o73b16U3uSt-"
      },
      "outputs": [],
      "source": [
        "data = {\"Name\":[\"Emily\", \"James\", \"Michael\"],\n",
        "      \"Age\":[13, 20, 78],\n",
        "      \"Salary\":[50000000, 6000000000, 70000000],\n",
        "      }"
      ]
    },
    {
      "cell_type": "code",
      "execution_count": null,
      "metadata": {
        "colab": {
          "base_uri": "https://localhost:8080/"
        },
        "id": "slGDkiiMufVX",
        "outputId": "feedcb27-b4e1-442e-e02c-32e5310da04d"
      },
      "outputs": [
        {
          "name": "stdout",
          "output_type": "stream",
          "text": [
            "      Name  Age      Salary\n",
            "0    Emily   13    50000000\n",
            "1    James   20  6000000000\n",
            "2  Michael   78    70000000\n"
          ]
        }
      ],
      "source": [
        "df = pd.DataFrame(data)\n",
        "print(df)"
      ]
    },
    {
      "cell_type": "markdown",
      "metadata": {
        "id": "m7J18xngukPU"
      },
      "source": [
        "### Read CSV"
      ]
    },
    {
      "cell_type": "code",
      "execution_count": null,
      "metadata": {
        "colab": {
          "base_uri": "https://localhost:8080/"
        },
        "id": "v6EcNUURumW5",
        "outputId": "3aecfcd4-2841-4426-86e6-c1dd2dceb230"
      },
      "outputs": [
        {
          "name": "stdout",
          "output_type": "stream",
          "text": [
            "     Age  Sex  Marriage  AIDS\n",
            "0     18    0         0     0\n",
            "1     19    1         1     1\n",
            "2     50    0         0     0\n",
            "3     74    1         0     0\n",
            "4     23    1         1     0\n",
            "..   ...  ...       ...   ...\n",
            "995   37    0         0     1\n",
            "996   45    1         1     0\n",
            "997   62    0         1     1\n",
            "998   22    1         0     0\n",
            "999   77    0         1     0\n",
            "\n",
            "[1000 rows x 4 columns]\n"
          ]
        }
      ],
      "source": [
        "df_second = pd.read_csv(\"https://raw.githubusercontent.com/HDAI654/AI-Tutorial-From-Zero-To-Advanced/refs/heads/main/data/AIDS_DATA.csv\") # or you can put here address of your .csv file in your system\n",
        "print(df_second)"
      ]
    },
    {
      "cell_type": "markdown",
      "metadata": {
        "id": "wftqeNoMvBWO"
      },
      "source": [
        "### head , describe , read , iloc , loc , filter"
      ]
    },
    {
      "cell_type": "code",
      "execution_count": null,
      "metadata": {
        "id": "K2-2YW98vCPU"
      },
      "outputs": [],
      "source": [
        "data = {\"Name\":[\"Emily\", \"James\", \"Michael\"],\n",
        "      \"Age\":[13, 20, 78],\n",
        "      \"Salary\":[50000000, 6000000000, 70000000],\n",
        "      }\n",
        "df = pd.DataFrame(data)"
      ]
    },
    {
      "cell_type": "code",
      "execution_count": null,
      "metadata": {
        "colab": {
          "base_uri": "https://localhost:8080/"
        },
        "id": "7F-UwcbsvI5c",
        "outputId": "001467bd-cafe-4051-efd5-bfca58c20ac1"
      },
      "outputs": [
        {
          "name": "stdout",
          "output_type": "stream",
          "text": [
            "      Name  Age      Salary\n",
            "0    Emily   13    50000000\n",
            "1    James   20  6000000000\n",
            "2  Michael   78    70000000\n"
          ]
        }
      ],
      "source": [
        "# head\n",
        "print(df.head())  # head  ==> The first five rows"
      ]
    },
    {
      "cell_type": "code",
      "execution_count": null,
      "metadata": {
        "colab": {
          "base_uri": "https://localhost:8080/"
        },
        "id": "OvCBoBPQvffM",
        "outputId": "387b054a-26e1-46c8-92c0-48357f6573db"
      },
      "outputs": [
        {
          "name": "stdout",
          "output_type": "stream",
          "text": [
            "             Age        Salary\n",
            "count   3.000000  3.000000e+00\n",
            "mean   37.000000  2.040000e+09\n",
            "std    35.679126  3.429475e+09\n",
            "min    13.000000  5.000000e+07\n",
            "25%    16.500000  6.000000e+07\n",
            "50%    20.000000  7.000000e+07\n",
            "75%    49.000000  3.035000e+09\n",
            "max    78.000000  6.000000e+09\n"
          ]
        }
      ],
      "source": [
        "# describe\n",
        "print(df.describe()) # Description of the data"
      ]
    },
    {
      "cell_type": "code",
      "execution_count": null,
      "metadata": {
        "colab": {
          "base_uri": "https://localhost:8080/"
        },
        "id": "J4MIZ62tvzrb",
        "outputId": "dedc4489-72fe-4e59-eeed-fef5cf3af69a"
      },
      "outputs": [
        {
          "name": "stdout",
          "output_type": "stream",
          "text": [
            "0    13\n",
            "1    20\n",
            "2    78\n",
            "Name: Age, dtype: int64\n"
          ]
        }
      ],
      "source": [
        "# read one field\n",
        "print(df['Age'])"
      ]
    },
    {
      "cell_type": "code",
      "execution_count": null,
      "metadata": {
        "colab": {
          "base_uri": "https://localhost:8080/"
        },
        "id": "am8So0zkwOeD",
        "outputId": "63ba6323-c99c-466a-9bf5-a54aa6486563"
      },
      "outputs": [
        {
          "name": "stdout",
          "output_type": "stream",
          "text": [
            "Name       Michael\n",
            "Age             78\n",
            "Salary    70000000\n",
            "Name: 2, dtype: object\n",
            "----------------------\n",
            "Name    Emily\n",
            "Age        13\n",
            "Name: 0, dtype: object\n"
          ]
        }
      ],
      "source": [
        "# iloc\n",
        "# read blocks     ilock   [row index, start block index : end block index]\n",
        "print(df.iloc[2,:])\n",
        "print(\"----------------------\")\n",
        "print(df.iloc[0,0:2])"
      ]
    },
    {
      "cell_type": "code",
      "execution_count": null,
      "metadata": {
        "colab": {
          "base_uri": "https://localhost:8080/"
        },
        "id": "gAmeauMByQM9",
        "outputId": "afe16f08-fb18-4aae-ca23-b50964ab2e31"
      },
      "outputs": [
        {
          "name": "stdout",
          "output_type": "stream",
          "text": [
            "      Name  Age\n",
            "0    Emily   13\n",
            "1    James   20\n",
            "2  Michael   78\n"
          ]
        }
      ],
      "source": [
        "# loc\n",
        "# loc[start row index : end row index, [column names]]\n",
        "print(df.loc[0:2, [\"Name\", \"Age\"]])"
      ]
    },
    {
      "cell_type": "code",
      "execution_count": null,
      "metadata": {
        "colab": {
          "base_uri": "https://localhost:8080/"
        },
        "id": "4UIpFuxcwUIv",
        "outputId": "61c3a2a1-eea2-499b-ed7f-535e4662033c"
      },
      "outputs": [
        {
          "name": "stdout",
          "output_type": "stream",
          "text": [
            "    Name  Age      Salary\n",
            "1  James   20  6000000000\n"
          ]
        }
      ],
      "source": [
        "# filter\n",
        "filtered_df = df[df[\"Salary\"]>2000000000]\n",
        "print(filtered_df)"
      ]
    },
    {
      "cell_type": "markdown",
      "metadata": {
        "id": "ZA2T38dixTdD"
      },
      "source": [
        "### Sort , group , add , delete"
      ]
    },
    {
      "cell_type": "code",
      "execution_count": null,
      "metadata": {
        "id": "IjEkGJuBxhmL"
      },
      "outputs": [],
      "source": [
        "data = {\"Name\":[\"Emily\", \"James\", \"Michael\", \"Emily\"],\n",
        "      \"Age\":[13, 20, 78, 26],\n",
        "      \"Salary\":[50000000, 6000000000, 70000000, 80000],\n",
        "      }\n",
        "df = pd.DataFrame(data)"
      ]
    },
    {
      "cell_type": "code",
      "execution_count": null,
      "metadata": {
        "colab": {
          "base_uri": "https://localhost:8080/"
        },
        "id": "5LtoF5fuxkUi",
        "outputId": "8f085ab6-1486-4d6a-a4aa-c1dde5a7e2e2"
      },
      "outputs": [
        {
          "name": "stdout",
          "output_type": "stream",
          "text": [
            "      Name  Age      Salary\n",
            "3    Emily   26       80000\n",
            "0    Emily   13    50000000\n",
            "2  Michael   78    70000000\n",
            "1    James   20  6000000000\n"
          ]
        }
      ],
      "source": [
        "# sort\n",
        "sorted = df.sort_values(\"Salary\")\n",
        "print(sorted)"
      ]
    },
    {
      "cell_type": "code",
      "execution_count": null,
      "metadata": {
        "colab": {
          "base_uri": "https://localhost:8080/"
        },
        "id": "VLRljNqexvDD",
        "outputId": "8659a6c6-1453-4ed0-faac-770fda5d876f"
      },
      "outputs": [
        {
          "name": "stdout",
          "output_type": "stream",
          "text": [
            "      Name  Age      Salary\n",
            "1    James   20  6000000000\n",
            "2  Michael   78    70000000\n",
            "0    Emily   13    50000000\n",
            "3    Emily   26       80000\n"
          ]
        }
      ],
      "source": [
        "# reverse sort\n",
        "sorted = df.sort_values(\"Salary\", ascending=False) # reverse\n",
        "print(sorted)"
      ]
    },
    {
      "cell_type": "code",
      "execution_count": null,
      "metadata": {
        "colab": {
          "base_uri": "https://localhost:8080/"
        },
        "id": "aZUU3hYYyCfS",
        "outputId": "d21c78ab-bd8f-490e-9c79-e237a9dc31bb"
      },
      "outputs": [
        {
          "name": "stdout",
          "output_type": "stream",
          "text": [
            "[('Emily', 0    50000000\n",
            "3       80000\n",
            "Name: Salary, dtype: int64), ('James', 1    6000000000\n",
            "Name: Salary, dtype: int64), ('Michael', 2    70000000\n",
            "Name: Salary, dtype: int64)]\n",
            "-------------------------\n",
            "('Emily', 0    50000000\n",
            "3       80000\n",
            "Name: Salary, dtype: int64)\n",
            "-------------------------\n",
            "[50000000, 80000]\n"
          ]
        }
      ],
      "source": [
        "# group\n",
        "# Find duplicate rows based on the specified field . then convert all them to a row and put other fileds data in array\n",
        "df_grouped = df.groupby('Name') # groupby(Field name)\n",
        "print(list(df_grouped[\"Salary\"]))\n",
        "print(\"-------------------------\")\n",
        "print(list(df_grouped[\"Salary\"])[0])\n",
        "print(\"-------------------------\")\n",
        "print(list(list(df_grouped[\"Salary\"])[0][1]))"
      ]
    },
    {
      "cell_type": "code",
      "execution_count": null,
      "metadata": {
        "colab": {
          "base_uri": "https://localhost:8080/"
        },
        "id": "F-pB4RlRyq1r",
        "outputId": "3fcfee36-0977-4f60-8feb-a31db6d476df"
      },
      "outputs": [
        {
          "name": "stdout",
          "output_type": "stream",
          "text": [
            "      Name  Age      Salary Father Name\n",
            "0    Emily   13    50000000       Ethan\n",
            "1    James   20  6000000000        Liam\n",
            "2  Michael   78    70000000        Noah\n",
            "3    Emily   26       80000       Jacob\n",
            "--------------------------------------\n",
            "      Name  Age      Salary\n",
            "0    Emily   13    50000000\n",
            "1    James   20  6000000000\n",
            "2  Michael   78    70000000\n",
            "3    Emily   26       80000\n"
          ]
        }
      ],
      "source": [
        "# add new columns\n",
        "df['Father Name'] = [\"Ethan\", \"Liam\", \"Noah\", \"Jacob\"]\n",
        "print(df)\n",
        "print(\"--------------------------------------\")\n",
        "# delete columns\n",
        "df.drop(\"Father Name\", axis=1, inplace=True) # axis=0 : horizontal  axis=1 : vertical  .  !  If the axis is 0 you must use index instead of field name\n",
        "print(df)"
      ]
    },
    {
      "cell_type": "code",
      "execution_count": null,
      "metadata": {
        "colab": {
          "base_uri": "https://localhost:8080/"
        },
        "id": "gxzgueQb3ot5",
        "outputId": "cc1286f4-6ea2-4a13-fd70-4805f6d14900"
      },
      "outputs": [
        {
          "name": "stdout",
          "output_type": "stream",
          "text": [
            "      Name  Age      Salary\n",
            "0    Emily   13    50000000\n",
            "1    James   20  6000000000\n",
            "2  Michael   78    70000000\n",
            "3    Emily   26       80000\n",
            "4   Bagher   23   625500000\n",
            "--------------------------\n",
            "      Name  Age      Salary\n",
            "0    Emily   13    50000000\n",
            "1    James   20  6000000000\n",
            "2  Michael   78    70000000\n",
            "3    Emily   26       80000\n"
          ]
        }
      ],
      "source": [
        "# add new row\n",
        "df.loc[4] = {\"Name\":'Bagher', \"Age\":23, \"Salary\":625500000}\n",
        "print(df)\n",
        "print(\"--------------------------\")\n",
        "# delete row\n",
        "df.drop(4, axis=0, inplace=True)\n",
        "print(df)"
      ]
    },
    {
      "cell_type": "markdown",
      "metadata": {
        "id": "7DPgct1e4yTW"
      },
      "source": [
        "### Data validation"
      ]
    },
    {
      "cell_type": "code",
      "execution_count": null,
      "metadata": {
        "id": "kgcyvZ2Q48hg"
      },
      "outputs": [],
      "source": [
        "data = {\"Name\":[\"Emily\", \"James\", \"Michael\"],\n",
        "      \"Age\":[13, 20, 78],\n",
        "      \"Salary\":[50000000, 6000000000, 70000000],\n",
        "      }\n",
        "df = pd.DataFrame(data)"
      ]
    },
    {
      "cell_type": "code",
      "execution_count": null,
      "metadata": {
        "colab": {
          "base_uri": "https://localhost:8080/"
        },
        "id": "JGdVgF5Q4--W",
        "outputId": "3264a015-8179-4fbb-95ed-cce1b41a62b3"
      },
      "outputs": [
        {
          "name": "stdout",
          "output_type": "stream",
          "text": [
            "      Name  Age        Salary\n",
            "0    Emily   13  5.000000e+07\n",
            "1    James   20  6.000000e+09\n",
            "2  Michael   78  7.000000e+07\n",
            "4   Olivia   90           NaN\n"
          ]
        }
      ],
      "source": [
        "# make an invalid data\n",
        "df.loc[4] = {\"Name\":'Olivia', \"Age\":90}  # The Salary for this row is going to be null\n",
        "print(df)"
      ]
    },
    {
      "cell_type": "code",
      "execution_count": null,
      "metadata": {
        "colab": {
          "base_uri": "https://localhost:8080/"
        },
        "id": "1Ke2PM-J5Xca",
        "outputId": "7dc2c12d-347e-4779-ee56-5dad6da2ac8a"
      },
      "outputs": [
        {
          "name": "stdout",
          "output_type": "stream",
          "text": [
            "    Name    Age  Salary\n",
            "0  False  False   False\n",
            "1  False  False   False\n",
            "2  False  False   False\n",
            "4  False  False    True\n"
          ]
        }
      ],
      "source": [
        "# find invalid data\n",
        "print(df.isna())"
      ]
    },
    {
      "cell_type": "code",
      "execution_count": null,
      "metadata": {
        "colab": {
          "base_uri": "https://localhost:8080/"
        },
        "id": "KjPd3oeh5i-1",
        "outputId": "461244c2-151c-4d65-dc22-1d7512e4ea7c"
      },
      "outputs": [
        {
          "name": "stdout",
          "output_type": "stream",
          "text": [
            "      Name  Age        Salary\n",
            "0    Emily   13  5.000000e+07\n",
            "1    James   20  6.000000e+09\n",
            "2  Michael   78  7.000000e+07\n"
          ]
        }
      ],
      "source": [
        "# delete invalid data\n",
        "df = df.dropna()\n",
        "print(df)"
      ]
    },
    {
      "cell_type": "code",
      "execution_count": null,
      "metadata": {
        "colab": {
          "base_uri": "https://localhost:8080/"
        },
        "id": "j4MxX7Qc5z87",
        "outputId": "57397e7f-4f01-4be3-d5d8-b0692d758e59"
      },
      "outputs": [
        {
          "name": "stdout",
          "output_type": "stream",
          "text": [
            "       Name  Age        Salary\n",
            "0     Emily   13  5.000000e+07\n",
            "1     James   20  6.000000e+09\n",
            "2   Michael   78  7.000000e+07\n",
            "4  Eskandar   90           NaN\n",
            "------------------------------\n",
            "       Name  Age        Salary\n",
            "0     Emily   13  5.000000e+07\n",
            "1     James   20  6.000000e+09\n",
            "2   Michael   78  7.000000e+07\n",
            "4  Eskandar   90  0.000000e+00\n"
          ]
        }
      ],
      "source": [
        "# Replacement for invalid data\n",
        "df.loc[4] = {\"Name\":'Eskandar', \"Age\":90}\n",
        "print(df)\n",
        "print(\"------------------------------\")\n",
        "df = df.fillna(0)\n",
        "print(df)"
      ]
    },
    {
      "cell_type": "markdown",
      "metadata": {
        "id": "T7aQbmDm6OfG"
      },
      "source": [
        "### Write"
      ]
    },
    {
      "cell_type": "code",
      "execution_count": null,
      "metadata": {
        "id": "HkPtBu4h6Pbs"
      },
      "outputs": [],
      "source": [
        "data = {\"Name\":[\"Ali\", \"Hosain\", \"Kasra\", \"Ali\"],\n",
        "      \"Age\":[13, 20, 78, 26],\n",
        "      \"Salary\":[50000000, 6000000000, 70000000, 800000],\n",
        "      }\n",
        "df = pd.DataFrame(data)"
      ]
    },
    {
      "cell_type": "code",
      "execution_count": null,
      "metadata": {
        "id": "tRHRfCHx6QFA"
      },
      "outputs": [],
      "source": [
        "df.to_csv(\"NewData.csv\")  # Saving the DataFrame in a CSV file"
      ]
    },
    {
      "cell_type": "markdown",
      "metadata": {
        "id": "3HWtOcFe7MZ7"
      },
      "source": [
        "## Matplotlib"
      ]
    },
    {
      "cell_type": "code",
      "execution_count": null,
      "metadata": {
        "id": "UxMB_Fyb7Q9W"
      },
      "outputs": [],
      "source": [
        "import numpy as np\n",
        "import matplotlib.pyplot as plt"
      ]
    },
    {
      "cell_type": "markdown",
      "metadata": {
        "id": "e4WHjlVJ9EBv"
      },
      "source": [
        "### Plot"
      ]
    },
    {
      "cell_type": "code",
      "execution_count": null,
      "metadata": {
        "id": "oRESJoYK9JOE"
      },
      "outputs": [],
      "source": [
        "x = [1, 5, 9, 8, 9]  # also can be     x = [[1], [5], [9], [8], [9]]\n",
        "y = [2, 9, 5, 7, 6]  # also can be     y = [[2], [9], [5], [7], [6]]"
      ]
    },
    {
      "cell_type": "code",
      "execution_count": null,
      "metadata": {
        "colab": {
          "base_uri": "https://localhost:8080/",
          "height": 472
        },
        "id": "63zE3cQg7RkS",
        "outputId": "cbc1a2a2-f27c-4c7d-f393-63d60f51af2c"
      },
      "outputs": [
        {
          "data": {
            "image/png": "[encoded data removed]",
            "text/plain": [
              "<Figure size 640x480 with 1 Axes>"
            ]
          },
          "metadata": {},
          "output_type": "display_data"
        }
      ],
      "source": [
        "plt.plot(x, y, marker=\"o\", color=\"blue\")\n",
        "plt.title(\"PLT\")\n",
        "plt.xlabel(\"X\")\n",
        "plt.ylabel(\"Y\")\n",
        "plt.show()"
      ]
    },
    {
      "cell_type": "code",
      "execution_count": null,
      "metadata": {
        "colab": {
          "base_uri": "https://localhost:8080/",
          "height": 472
        },
        "id": "p3LcoHi58E-4",
        "outputId": "9975776b-de38-4402-da00-4402060e2dd6"
      },
      "outputs": [
        {
          "data": {
            "image/png": "[encoded data removed]",
            "text/plain": [
              "<Figure size 640x480 with 1 Axes>"
            ]
          },
          "metadata": {},
          "output_type": "display_data"
        }
      ],
      "source": [
        "plt.plot(x, y, \"o\", color=\"green\")\n",
        "plt.title(\"PLT\")\n",
        "plt.xlabel(\"X\")\n",
        "plt.ylabel(\"Y\")\n",
        "plt.show()"
      ]
    },
    {
      "cell_type": "markdown",
      "metadata": {
        "id": "UfukwVDy9M3V"
      },
      "source": [
        "### Scatter"
      ]
    },
    {
      "cell_type": "code",
      "execution_count": null,
      "metadata": {
        "id": "sj-Mnx719Qow"
      },
      "outputs": [],
      "source": [
        "x = [1, 5, 9, 8, 9]  # also can be     x = [[1], [5], [9], [8], [9]]\n",
        "y = [2, 9, 5, 7, 6]  # also can be     y = [[2], [9], [5], [7], [6]]"
      ]
    },
    {
      "cell_type": "code",
      "execution_count": null,
      "metadata": {
        "colab": {
          "base_uri": "https://localhost:8080/",
          "height": 472
        },
        "id": "GVy6GJ538L5j",
        "outputId": "f261dbe0-90aa-44d7-81b8-b1458c8d46f9"
      },
      "outputs": [
        {
          "data": {
            "image/png": "[encoded data removed]",
            "text/plain": [
              "<Figure size 640x480 with 1 Axes>"
            ]
          },
          "metadata": {},
          "output_type": "display_data"
        }
      ],
      "source": [
        "plt.scatter(x, y)\n",
        "plt.title(\"PLT\")\n",
        "plt.xlabel(\"X\")\n",
        "plt.ylabel(\"Y\")\n",
        "plt.show()"
      ]
    },
    {
      "cell_type": "code",
      "execution_count": null,
      "metadata": {
        "colab": {
          "base_uri": "https://localhost:8080/",
          "height": 472
        },
        "id": "YagQHNcy82_9",
        "outputId": "796f5f54-e058-4c6d-aeee-7d89c4e54074"
      },
      "outputs": [
        {
          "data": {
            "image/png": "[encoded data removed]",
            "text/plain": [
              "<Figure size 640x480 with 1 Axes>"
            ]
          },
          "metadata": {},
          "output_type": "display_data"
        }
      ],
      "source": [
        "plt.scatter(x, y, marker=\"x\", color=\"green\")\n",
        "plt.title(\"PLT\")\n",
        "plt.xlabel(\"X\")\n",
        "plt.ylabel(\"Y\")\n",
        "plt.show()"
      ]
    },
    {
      "cell_type": "markdown",
      "metadata": {
        "id": "ip_pIYbV9fCL"
      },
      "source": [
        "### Bar"
      ]
    },
    {
      "cell_type": "code",
      "execution_count": null,
      "metadata": {
        "id": "AtBuKPOE9f7q"
      },
      "outputs": [],
      "source": [
        "x = [\"Emily\", \"James\", \"Michael\"]\n",
        "y = [60, 89, 73]"
      ]
    },
    {
      "cell_type": "code",
      "execution_count": null,
      "metadata": {
        "colab": {
          "base_uri": "https://localhost:8080/",
          "height": 472
        },
        "id": "yjLkcaSC9_6P",
        "outputId": "5044fe65-e7ac-457a-dcf0-b5aeeacdc346"
      },
      "outputs": [
        {
          "data": {
            "image/png": "[encoded data removed]",
            "text/plain": [
              "<Figure size 640x480 with 1 Axes>"
            ]
          },
          "metadata": {},
          "output_type": "display_data"
        }
      ],
      "source": [
        "plt.bar(x, y, color=\"yellow\")\n",
        "plt.title(\"BAR\")\n",
        "plt.xlabel(\"Color\")\n",
        "plt.ylabel(\"Count\")\n",
        "plt.show()"
      ]
    },
    {
      "cell_type": "markdown",
      "metadata": {
        "id": "WI9eroXI_uVM"
      },
      "source": [
        "### Pie"
      ]
    },
    {
      "cell_type": "code",
      "execution_count": null,
      "metadata": {
        "id": "Ht55PguL_v1a"
      },
      "outputs": [],
      "source": [
        "x = [\"Emily\", \"James\", \"Michael\"]\n",
        "y = [60, 89, 73]"
      ]
    },
    {
      "cell_type": "code",
      "execution_count": null,
      "metadata": {
        "colab": {
          "base_uri": "https://localhost:8080/",
          "height": 428
        },
        "id": "XTLfgYhE_9VB",
        "outputId": "c2c70f4f-9cf7-4b40-92f1-47ede413b8f2"
      },
      "outputs": [
        {
          "data": {
            "image/png": "[encoded data removed]",
            "text/plain": [
              "<Figure size 640x480 with 1 Axes>"
            ]
          },
          "metadata": {},
          "output_type": "display_data"
        }
      ],
      "source": [
        "# without label\n",
        "plt.pie(y, colors=[\"blue\", \"yellow\", \"red\"])\n",
        "plt.title(\"PIE\")\n",
        "plt.show()"
      ]
    },
    {
      "cell_type": "code",
      "execution_count": null,
      "metadata": {
        "colab": {
          "base_uri": "https://localhost:8080/",
          "height": 428
        },
        "id": "mkUEaoEw_-8P",
        "outputId": "2ddab591-ce2d-49af-f727-e820ff62e146"
      },
      "outputs": [
        {
          "data": {
            "image/png": "[encoded data removed]",
            "text/plain": [
              "<Figure size 640x480 with 1 Axes>"
            ]
          },
          "metadata": {},
          "output_type": "display_data"
        }
      ],
      "source": [
        "# with label\n",
        "plt.pie(y, labels=x, colors=[\"blue\", \"yellow\", \"red\"])\n",
        "plt.title(\"PIE\")\n",
        "plt.show()"
      ]
    },
    {
      "cell_type": "code",
      "execution_count": null,
      "metadata": {
        "colab": {
          "base_uri": "https://localhost:8080/",
          "height": 428
        },
        "id": "y0u8oy8_AV5K",
        "outputId": "60b3d16b-4e5b-4932-8ff0-ba0ebe77b548"
      },
      "outputs": [
        {
          "data": {
            "image/png": "[encoded data removed]",
            "text/plain": [
              "<Figure size 640x480 with 1 Axes>"
            ]
          },
          "metadata": {},
          "output_type": "display_data"
        }
      ],
      "source": [
        "# with Percentage display\n",
        "plt.pie(y, labels=x, colors=[\"blue\", \"yellow\", \"red\"], autopct=\"%1.1f%%\")\n",
        "plt.title(\"PIE\")\n",
        "plt.show()"
      ]
    },
    {
      "cell_type": "markdown",
      "metadata": {
        "id": "8NmtSOP1AlEz"
      },
      "source": [
        "### Histogram\n",
        "*The number of data in each interval*"
      ]
    },
    {
      "cell_type": "code",
      "execution_count": null,
      "metadata": {
        "colab": {
          "base_uri": "https://localhost:8080/",
          "height": 452
        },
        "id": "Zh-uZvbNAl-X",
        "outputId": "4165e05a-6a0f-4cb4-971a-cb7b338b6450"
      },
      "outputs": [
        {
          "data": {
            "image/png": "[encoded data removed]",
            "text/plain": [
              "<Figure size 640x480 with 1 Axes>"
            ]
          },
          "metadata": {},
          "output_type": "display_data"
        }
      ],
      "source": [
        "f = np.random.rand(1000, 1)\n",
        "\n",
        "plt.hist(f, bins=5)   # bins = Number of intervals\n",
        "plt.title(\"HIST\")\n",
        "plt.show()"
      ]
    },
    {
      "cell_type": "markdown",
      "metadata": {
        "id": "QOgXppmlBQ9f"
      },
      "source": [
        "### imshow\n",
        "*showing a matrix as an image*"
      ]
    },
    {
      "cell_type": "code",
      "execution_count": null,
      "metadata": {
        "colab": {
          "base_uri": "https://localhost:8080/",
          "height": 452
        },
        "id": "8h6VqH5rBUT7",
        "outputId": "f6e9040e-6ad3-4f5f-f52c-6dbaf6d9d73f"
      },
      "outputs": [
        {
          "data": {
            "image/png": "[encoded data removed]",
            "text/plain": [
              "<Figure size 640x480 with 2 Axes>"
            ]
          },
          "metadata": {},
          "output_type": "display_data"
        }
      ],
      "source": [
        "m = np.random.rand(7, 7)\n",
        "plt.imshow(m, cmap=\"hot\")\n",
        "plt.title(\"Matrix to image\")\n",
        "plt.colorbar()\n",
        "plt.show()"
      ]
    },
    {
      "cell_type": "code",
      "execution_count": null,
      "metadata": {
        "colab": {
          "base_uri": "https://localhost:8080/",
          "height": 452
        },
        "id": "0ShDBT9vBdeO",
        "outputId": "d76c70e6-67c8-4cbb-ccf8-b1ba41479ad5"
      },
      "outputs": [
        {
          "data": {
            "image/png": "[encoded data removed]",
            "text/plain": [
              "<Figure size 640x480 with 2 Axes>"
            ]
          },
          "metadata": {},
          "output_type": "display_data"
        }
      ],
      "source": [
        "# another cmap\n",
        "m = np.random.rand(7, 7)\n",
        "plt.imshow(m, cmap=\"Blues\")\n",
        "plt.title(\"Matrix to image\")\n",
        "plt.colorbar()\n",
        "plt.show()"
      ]
    },
    {
      "cell_type": "code",
      "execution_count": null,
      "metadata": {
        "colab": {
          "base_uri": "https://localhost:8080/",
          "height": 452
        },
        "id": "IDVweualBgbz",
        "outputId": "954fae15-e41e-4f63-c9d7-fbb68546f915"
      },
      "outputs": [
        {
          "data": {
            "image/png": "[encoded data removed]",
            "text/plain": [
              "<Figure size 640x480 with 2 Axes>"
            ]
          },
          "metadata": {},
          "output_type": "display_data"
        }
      ],
      "source": [
        "m2 = np.random.rand(102, 56)\n",
        "plt.imshow(m2)\n",
        "plt.title(\"Big Matrix to image\")\n",
        "plt.colorbar()\n",
        "plt.show()"
      ]
    },
    {
      "cell_type": "markdown",
      "metadata": {
        "id": "4NWfCs0xy0sh"
      },
      "source": [
        "# **Machine Learning (ML)**"
      ]
    },
    {
      "cell_type": "markdown",
      "metadata": {
        "id": "KvSqDmRx0huQ"
      },
      "source": [
        "## Introduction to Machine Learning"
      ]
    },
    {
      "cell_type": "markdown",
      "metadata": {
        "id": "4qMErnwc119f"
      },
      "source": [
        "Machine Learning (ML) is a fundamental discipline within the broader field of Artificial Intelligence (AI) that focuses on the development of algorithms and statistical models enabling computers to perform specific tasks without explicit instructions. Instead, machine learning systems learn patterns and relationships directly from data, and subsequently make informed decisions or predictions based on that knowledge.\n",
        "\n",
        "The key idea behind machine learning is to allow systems to adapt and improve their performance over time as they are exposed to more data, reducing the need for manual rule-based programming. Applications of machine learning span a wide range of domains, including healthcare, finance, autonomous vehicles, natural language processing, and computer vision.\n",
        "\n",
        "### Categories of Machine Learning Algorithms\n",
        "\n",
        "Machine learning algorithms are typically categorized into three primary types: supervised learning, unsupervised learning, and semi-supervised learning. Each category is defined by the nature of the data used during the training process.\n",
        "\n",
        "### 1. Supervised Learning\n",
        "\n",
        "Supervised learning involves training a model on a labeled dataset, where each training instance includes both input features and a corresponding target output. The objective is for the model to learn a mapping function that accurately predicts the output for new, unseen inputs.\n",
        "\n",
        "- **Example:** In email spam detection, the model is trained on a dataset of emails labeled as either \"spam\" or \"not spam\". It learns to classify new emails based on patterns found in the training data.\n",
        "\n",
        "- **Common Algorithms:**\n",
        "  - Linear Regression\n",
        "  - Logistic Regression\n",
        "  - Support Vector Machines (SVM)\n",
        "  - Decision Trees\n",
        "  - Random Forests\n",
        "  - Neural Networks\n",
        "\n",
        "### 2. Unsupervised Learning\n",
        "\n",
        "In unsupervised learning, the model is provided with data that lacks labeled responses. The goal is to explore the underlying structure or distribution in the data, often by clustering similar data points or reducing the dimensionality of the dataset.\n",
        "\n",
        "- **Example:** In customer segmentation, a retail company may use clustering techniques to group customers based on purchasing behavior, without predefined labels or categories.\n",
        "\n",
        "- **Common Algorithms:**\n",
        "  - K-Means Clustering\n",
        "  - Hierarchical Clustering\n",
        "  - Gaussian Mixture Models (GMM)\n",
        "  - Principal Component Analysis (PCA)\n",
        "  - Autoencoders\n",
        "\n",
        "### 3. Semi-Supervised Learning\n",
        "\n",
        "Semi-supervised learning combines aspects of both supervised and unsupervised learning. It utilizes a small amount of labeled data alongside a larger volume of unlabeled data. This approach is particularly valuable when acquiring labeled data is expensive or time-consuming, but large amounts of unlabeled data are readily available.\n",
        "\n",
        "- **Example:** In speech recognition, manually transcribing audio recordings can be resource-intensive. Semi-supervised learning can leverage a limited set of transcribed examples to improve model accuracy using a larger corpus of unlabeled audio data.\n",
        "\n",
        "- **Common Techniques:**\n",
        "  - Self-training\n",
        "  - Co-training\n",
        "  - Graph-based algorithms\n",
        "\n",
        "---\n",
        "\n",
        "Understanding these categories of machine learning is crucial for selecting appropriate algorithms and designing effective learning systems tailored to specific tasks and datasets. Each approach has distinct advantages and limitations, and the choice often depends on the nature of the problem, the availability of labeled data, and the desired outcomes."
      ]
    },
    {
      "cell_type": "markdown",
      "metadata": {
        "id": "pZZwSHrv4FGv"
      },
      "source": [
        "## Linear Regression"
      ]
    },
    {
      "cell_type": "markdown",
      "metadata": {
        "id": "MgJ1wbWiI-C-"
      },
      "source": [
        "###  Introduction Linear Regression"
      ]
    },
    {
      "cell_type": "markdown",
      "metadata": {
        "id": "d4J5EYrd-feR"
      },
      "source": [
        "####  What is Linear Regression?\n",
        "\n",
        "> Linear Regression is one of the most fundamental and widely used algorithms in machine learning and statistics. It models the relationship between a dependent variable \\( y \\) and one or more independent variables \\( x \\) by fitting a straight line to the data. In its simplest form, it is used to predict a continuous outcome based on a single input feature.\n",
        "\n",
        "---\n",
        "\n",
        "#### Applications of Linear Regression\n",
        "\n",
        "- **Economics**: Predicting consumer spending based on income.\n",
        "- **Healthcare**: Estimating patient risk based on age and lifestyle factors.\n",
        "- **Engineering**: Modeling relationships between pressure and temperature.\n",
        "- **Marketing**: Forecasting sales from advertising budgets.\n",
        "- **Environmental Science**: Predicting pollution levels based on traffic flow.\n",
        "\n",
        "---\n",
        "\n",
        "#### Advantages\n",
        "\n",
        "- Easy to understand and implement.\n",
        "- Computationally efficient.\n",
        "- Provides a good baseline model for regression tasks.\n",
        "- Coefficients are interpretable, indicating the strength of the relationship.\n",
        "\n",
        "---\n",
        "\n",
        "#### Limitations\n",
        "\n",
        "- Assumes a linear relationship between variables.\n",
        "- Sensitive to outliers.\n",
        "- Cannot capture complex patterns or interactions.\n",
        "- Assumes homoscedasticity and normality of residuals.\n",
        "\n",
        "---\n",
        "\n",
        "###  Mathematical Explanation and Intuition\n",
        "\n",
        "Linear Regression attempts to fit a straight line to the data that minimizes the difference between predicted and actual values (known as residuals). The general equation for a straight line is:\n",
        "\n",
        "$$\n",
        "y = a x + b\n",
        "$$\n",
        "\n",
        "Where:\n",
        "- \\( $y$ \\): predicted output\n",
        "- \\( $x$ \\): input feature\n",
        "- \\( $a$ \\): slope (how much \\( y \\) changes with respect to \\( x \\))\n",
        "- \\( $b$ \\): intercept (the value of \\( y \\) when \\( x = 0 \\))\n",
        "\n",
        "---\n",
        "\n",
        "####  Computing the Parameters\n",
        "\n",
        "To calculate the slope \\( a \\) and intercept \\( b \\), we use the following formulas:\n",
        "\n",
        "**Slope \\( a \\):**\n",
        "\n",
        "$$\n",
        "a = r \\cdot \\frac{S_y}{S_x}\n",
        "$$\n",
        "\n",
        "Where:\n",
        "- \\( $r$ \\): Pearson correlation coefficient\n",
        "- \\( $S_y$ \\), \\( $S_x$ \\): standard deviation of \\( y \\) and \\( x \\), respectively\n",
        "\n",
        "**Intercept \\( b \\):**\n",
        "\n",
        "$$\n",
        "b = \\overline{y} - a \\cdot \\overline{x}\n",
        "$$\n",
        "\n",
        "Where:\n",
        "- \\( $\\overline{y}$ \\) and \\( $\\overline{x}$ \\) mean of \\( y \\) and \\( x \\)\n",
        "\n",
        "**Pearson Correlation Coefficient \\( r \\):**\n",
        "\n",
        "$$\n",
        "r = \\frac{\\sum (x_i - \\overline{x})(y_i - \\overline{y})}\n",
        "         {\\sqrt{\\sum (x_i - \\overline{x})^2 \\cdot \\sum (y_i - \\overline{y})^2}}\n",
        "$$\n",
        "\n",
        "This coefficient measures the strength and direction of the linear relationship between \\( x \\) and \\( y \\)."
      ]
    },
    {
      "cell_type": "markdown",
      "metadata": {
        "id": "lW_JOuDvECXP"
      },
      "source": [
        "### Evaluation Metrics: R² Score and Mean Squared Error (MSE)"
      ]
    },
    {
      "cell_type": "markdown",
      "metadata": {
        "id": "cGXATW-fG3bj"
      },
      "source": [
        "1 . **Coefficient of Determination** (R² Score)\n",
        "\n",
        "> The R² score, also known as the *coefficient of determination*, is a statistical measure that evaluates how well the predictions of a regression model approximate the actual data. It represents the proportion of the variance in the dependent variable that is predictable from the independent variable(s).\n",
        "\n",
        "\n",
        "\n",
        "**Formula:**\n",
        "$$\n",
        "R^2 = 1 - \\frac{\\sum_{i=1}^{n}(y_i - \\hat{y}_i)^2}{\\sum_{i=1}^{n}(y_i - \\bar{y})^2}\n",
        "$$\n",
        "\n",
        "Where:  \n",
        "- \\( $y_i$ \\) = actual values  \n",
        "- \\( $\\hat{y}_i$ \\) = predicted values\n",
        "- \\( $\\bar{y}$ \\) = mean of actual values  \n",
        "- \\( $n$ \\) = number of observations\n",
        "\n",
        "**Application:**  \n",
        "R² is commonly used to assess the goodness-of-fit of a regression model. A value of 1 indicates a perfect prediction, while a value of 0 implies that the model performs no better than the mean of the target variable. Negative values suggest poor model performance.\n",
        "\n",
        "---\n",
        "\n",
        "2 . Mean Squared Error (MSE)\n",
        "\n",
        "> Mean Squared Error (MSE) is one of the most widely used metrics for measuring the average squared difference between actual and predicted values in regression tasks.\n",
        "\n",
        "**Formula:**\n",
        "\n",
        "$$\n",
        "\\text{MSE} = \\frac{1}{n} \\sum_{i=1}^{n}(y_i - \\hat{y}_i)^2\n",
        "$$\n",
        "\n",
        "Where:  \n",
        "- \\( $y_i$ \\) = actual value  \n",
        "- \\( $\\hat{y}_i$ \\) = predicted value  \n",
        "- \\( $n$ \\) = total number of samples\n",
        "\n",
        "**Application:**  \n",
        "MSE penalizes larger errors more than smaller ones due to squaring, making it sensitive to outliers. It is useful for understanding the overall prediction error of a model and for optimization purposes during model training.\n",
        "\n",
        "---\n",
        "\n",
        ">Both R² and MSE serve complementary roles in model evaluation. While R² provides a normalized indication of fit quality, MSE gives an absolute scale of error. In practice:\n",
        "- **Use R²** to understand the *relative* performance and how much variance your model explains.\n",
        "- **Use MSE** to measure the *absolute* prediction error and guide model improvement through optimization.\n",
        "Together, these metrics provide a balanced view of a model’s accuracy and reliability in regression analysis."
      ]
    },
    {
      "cell_type": "markdown",
      "metadata": {
        "id": "fBEWasgGGt63"
      },
      "source": [
        "### Example Code"
      ]
    },
    {
      "cell_type": "code",
      "execution_count": null,
      "metadata": {
        "id": "ZwEHdRAkCNbL"
      },
      "outputs": [],
      "source": [
        "import numpy as np\n",
        "import matplotlib.pyplot as plt\n",
        "from sklearn.linear_model import LinearRegression\n",
        "from sklearn.metrics import mean_squared_error, r2_score"
      ]
    },
    {
      "cell_type": "code",
      "execution_count": null,
      "metadata": {
        "id": "49ix7UwICjFh"
      },
      "outputs": [],
      "source": [
        "# Simulated dataset: Predicting happiness score based on sleep hours\n",
        "# Hypothetical assumption: More sleep generally leads to higher mood levels\n",
        "\n",
        "# Independent variable: Hours of sleep\n",
        "X = np.array([4, 5, 6, 6.5, 7, 7.5, 8, 8.5, 9, 10]).reshape(-1, 1)\n",
        "\n",
        "# Dependent variable: Happiness score (scale of 1 to 10)\n",
        "y = np.array([2, 3.5, 4, 5, 5.5, 6, 6.5, 7.5, 8, 9])"
      ]
    },
    {
      "cell_type": "code",
      "execution_count": null,
      "metadata": {
        "colab": {
          "base_uri": "https://localhost:8080/",
          "height": 80
        },
        "id": "6MJxiqtLCxwe",
        "outputId": "097c4f5b-8bad-4232-8377-f274428460be"
      },
      "outputs": [
        {
          "data": {
            "text/html": [
              "<style>#sk-container-id-2 {\n",
              "  /* Definition of color scheme common for light and dark mode */\n",
              "  --sklearn-color-text: #000;\n",
              "  --sklearn-color-text-muted: #666;\n",
              "  --sklearn-color-line: gray;\n",
              "  /* Definition of color scheme for unfitted estimators */\n",
              "  --sklearn-color-unfitted-level-0: #fff5e6;\n",
              "  --sklearn-color-unfitted-level-1: #f6e4d2;\n",
              "  --sklearn-color-unfitted-level-2: #ffe0b3;\n",
              "  --sklearn-color-unfitted-level-3: chocolate;\n",
              "  /* Definition of color scheme for fitted estimators */\n",
              "  --sklearn-color-fitted-level-0: #f0f8ff;\n",
              "  --sklearn-color-fitted-level-1: #d4ebff;\n",
              "  --sklearn-color-fitted-level-2: #b3dbfd;\n",
              "  --sklearn-color-fitted-level-3: cornflowerblue;\n",
              "\n",
              "  /* Specific color for light theme */\n",
              "  --sklearn-color-text-on-default-background: var(--sg-text-color, var(--theme-code-foreground, var(--jp-content-font-color1, black)));\n",
              "  --sklearn-color-background: var(--sg-background-color, var(--theme-background, var(--jp-layout-color0, white)));\n",
              "  --sklearn-color-border-box: var(--sg-text-color, var(--theme-code-foreground, var(--jp-content-font-color1, black)));\n",
              "  --sklearn-color-icon: #696969;\n",
              "\n",
              "  @media (prefers-color-scheme: dark) {\n",
              "    /* Redefinition of color scheme for dark theme */\n",
              "    --sklearn-color-text-on-default-background: var(--sg-text-color, var(--theme-code-foreground, var(--jp-content-font-color1, white)));\n",
              "    --sklearn-color-background: var(--sg-background-color, var(--theme-background, var(--jp-layout-color0, #111)));\n",
              "    --sklearn-color-border-box: var(--sg-text-color, var(--theme-code-foreground, var(--jp-content-font-color1, white)));\n",
              "    --sklearn-color-icon: #878787;\n",
              "  }\n",
              "}\n",
              "\n",
              "#sk-container-id-2 {\n",
              "  color: var(--sklearn-color-text);\n",
              "}\n",
              "\n",
              "#sk-container-id-2 pre {\n",
              "  padding: 0;\n",
              "}\n",
              "\n",
              "#sk-container-id-2 input.sk-hidden--visually {\n",
              "  border: 0;\n",
              "  clip: rect(1px 1px 1px 1px);\n",
              "  clip: rect(1px, 1px, 1px, 1px);\n",
              "  height: 1px;\n",
              "  margin: -1px;\n",
              "  overflow: hidden;\n",
              "  padding: 0;\n",
              "  position: absolute;\n",
              "  width: 1px;\n",
              "}\n",
              "\n",
              "#sk-container-id-2 div.sk-dashed-wrapped {\n",
              "  border: 1px dashed var(--sklearn-color-line);\n",
              "  margin: 0 0.4em 0.5em 0.4em;\n",
              "  box-sizing: border-box;\n",
              "  padding-bottom: 0.4em;\n",
              "  background-color: var(--sklearn-color-background);\n",
              "}\n",
              "\n",
              "#sk-container-id-2 div.sk-container {\n",
              "  /* jupyter's `normalize.less` sets `[hidden] { display: none; }`\n",
              "     but bootstrap.min.css set `[hidden] { display: none !important; }`\n",
              "     so we also need the `!important` here to be able to override the\n",
              "     default hidden behavior on the sphinx rendered scikit-learn.org.\n",
              "     See: https://github.com/scikit-learn/scikit-learn/issues/21755 */\n",
              "  display: inline-block !important;\n",
              "  position: relative;\n",
              "}\n",
              "\n",
              "#sk-container-id-2 div.sk-text-repr-fallback {\n",
              "  display: none;\n",
              "}\n",
              "\n",
              "div.sk-parallel-item,\n",
              "div.sk-serial,\n",
              "div.sk-item {\n",
              "  /* draw centered vertical line to link estimators */\n",
              "  background-image: linear-gradient(var(--sklearn-color-text-on-default-background), var(--sklearn-color-text-on-default-background));\n",
              "  background-size: 2px 100%;\n",
              "  background-repeat: no-repeat;\n",
              "  background-position: center center;\n",
              "}\n",
              "\n",
              "/* Parallel-specific style estimator block */\n",
              "\n",
              "#sk-container-id-2 div.sk-parallel-item::after {\n",
              "  content: \"\";\n",
              "  width: 100%;\n",
              "  border-bottom: 2px solid var(--sklearn-color-text-on-default-background);\n",
              "  flex-grow: 1;\n",
              "}\n",
              "\n",
              "#sk-container-id-2 div.sk-parallel {\n",
              "  display: flex;\n",
              "  align-items: stretch;\n",
              "  justify-content: center;\n",
              "  background-color: var(--sklearn-color-background);\n",
              "  position: relative;\n",
              "}\n",
              "\n",
              "#sk-container-id-2 div.sk-parallel-item {\n",
              "  display: flex;\n",
              "  flex-direction: column;\n",
              "}\n",
              "\n",
              "#sk-container-id-2 div.sk-parallel-item:first-child::after {\n",
              "  align-self: flex-end;\n",
              "  width: 50%;\n",
              "}\n",
              "\n",
              "#sk-container-id-2 div.sk-parallel-item:last-child::after {\n",
              "  align-self: flex-start;\n",
              "  width: 50%;\n",
              "}\n",
              "\n",
              "#sk-container-id-2 div.sk-parallel-item:only-child::after {\n",
              "  width: 0;\n",
              "}\n",
              "\n",
              "/* Serial-specific style estimator block */\n",
              "\n",
              "#sk-container-id-2 div.sk-serial {\n",
              "  display: flex;\n",
              "  flex-direction: column;\n",
              "  align-items: center;\n",
              "  background-color: var(--sklearn-color-background);\n",
              "  padding-right: 1em;\n",
              "  padding-left: 1em;\n",
              "}\n",
              "\n",
              "\n",
              "/* Toggleable style: style used for estimator/Pipeline/ColumnTransformer box that is\n",
              "clickable and can be expanded/collapsed.\n",
              "- Pipeline and ColumnTransformer use this feature and define the default style\n",
              "- Estimators will overwrite some part of the style using the `sk-estimator` class\n",
              "*/\n",
              "\n",
              "/* Pipeline and ColumnTransformer style (default) */\n",
              "\n",
              "#sk-container-id-2 div.sk-toggleable {\n",
              "  /* Default theme specific background. It is overwritten whether we have a\n",
              "  specific estimator or a Pipeline/ColumnTransformer */\n",
              "  background-color: var(--sklearn-color-background);\n",
              "}\n",
              "\n",
              "/* Toggleable label */\n",
              "#sk-container-id-2 label.sk-toggleable__label {\n",
              "  cursor: pointer;\n",
              "  display: flex;\n",
              "  width: 100%;\n",
              "  margin-bottom: 0;\n",
              "  padding: 0.5em;\n",
              "  box-sizing: border-box;\n",
              "  text-align: center;\n",
              "  align-items: start;\n",
              "  justify-content: space-between;\n",
              "  gap: 0.5em;\n",
              "}\n",
              "\n",
              "#sk-container-id-2 label.sk-toggleable__label .caption {\n",
              "  font-size: 0.6rem;\n",
              "  font-weight: lighter;\n",
              "  color: var(--sklearn-color-text-muted);\n",
              "}\n",
              "\n",
              "#sk-container-id-2 label.sk-toggleable__label-arrow:before {\n",
              "  /* Arrow on the left of the label */\n",
              "  content: \"▸\";\n",
              "  float: left;\n",
              "  margin-right: 0.25em;\n",
              "  color: var(--sklearn-color-icon);\n",
              "}\n",
              "\n",
              "#sk-container-id-2 label.sk-toggleable__label-arrow:hover:before {\n",
              "  color: var(--sklearn-color-text);\n",
              "}\n",
              "\n",
              "/* Toggleable content - dropdown */\n",
              "\n",
              "#sk-container-id-2 div.sk-toggleable__content {\n",
              "  max-height: 0;\n",
              "  max-width: 0;\n",
              "  overflow: hidden;\n",
              "  text-align: left;\n",
              "  /* unfitted */\n",
              "  background-color: var(--sklearn-color-unfitted-level-0);\n",
              "}\n",
              "\n",
              "#sk-container-id-2 div.sk-toggleable__content.fitted {\n",
              "  /* fitted */\n",
              "  background-color: var(--sklearn-color-fitted-level-0);\n",
              "}\n",
              "\n",
              "#sk-container-id-2 div.sk-toggleable__content pre {\n",
              "  margin: 0.2em;\n",
              "  border-radius: 0.25em;\n",
              "  color: var(--sklearn-color-text);\n",
              "  /* unfitted */\n",
              "  background-color: var(--sklearn-color-unfitted-level-0);\n",
              "}\n",
              "\n",
              "#sk-container-id-2 div.sk-toggleable__content.fitted pre {\n",
              "  /* unfitted */\n",
              "  background-color: var(--sklearn-color-fitted-level-0);\n",
              "}\n",
              "\n",
              "#sk-container-id-2 input.sk-toggleable__control:checked~div.sk-toggleable__content {\n",
              "  /* Expand drop-down */\n",
              "  max-height: 200px;\n",
              "  max-width: 100%;\n",
              "  overflow: auto;\n",
              "}\n",
              "\n",
              "#sk-container-id-2 input.sk-toggleable__control:checked~label.sk-toggleable__label-arrow:before {\n",
              "  content: \"▾\";\n",
              "}\n",
              "\n",
              "/* Pipeline/ColumnTransformer-specific style */\n",
              "\n",
              "#sk-container-id-2 div.sk-label input.sk-toggleable__control:checked~label.sk-toggleable__label {\n",
              "  color: var(--sklearn-color-text);\n",
              "  background-color: var(--sklearn-color-unfitted-level-2);\n",
              "}\n",
              "\n",
              "#sk-container-id-2 div.sk-label.fitted input.sk-toggleable__control:checked~label.sk-toggleable__label {\n",
              "  background-color: var(--sklearn-color-fitted-level-2);\n",
              "}\n",
              "\n",
              "/* Estimator-specific style */\n",
              "\n",
              "/* Colorize estimator box */\n",
              "#sk-container-id-2 div.sk-estimator input.sk-toggleable__control:checked~label.sk-toggleable__label {\n",
              "  /* unfitted */\n",
              "  background-color: var(--sklearn-color-unfitted-level-2);\n",
              "}\n",
              "\n",
              "#sk-container-id-2 div.sk-estimator.fitted input.sk-toggleable__control:checked~label.sk-toggleable__label {\n",
              "  /* fitted */\n",
              "  background-color: var(--sklearn-color-fitted-level-2);\n",
              "}\n",
              "\n",
              "#sk-container-id-2 div.sk-label label.sk-toggleable__label,\n",
              "#sk-container-id-2 div.sk-label label {\n",
              "  /* The background is the default theme color */\n",
              "  color: var(--sklearn-color-text-on-default-background);\n",
              "}\n",
              "\n",
              "/* On hover, darken the color of the background */\n",
              "#sk-container-id-2 div.sk-label:hover label.sk-toggleable__label {\n",
              "  color: var(--sklearn-color-text);\n",
              "  background-color: var(--sklearn-color-unfitted-level-2);\n",
              "}\n",
              "\n",
              "/* Label box, darken color on hover, fitted */\n",
              "#sk-container-id-2 div.sk-label.fitted:hover label.sk-toggleable__label.fitted {\n",
              "  color: var(--sklearn-color-text);\n",
              "  background-color: var(--sklearn-color-fitted-level-2);\n",
              "}\n",
              "\n",
              "/* Estimator label */\n",
              "\n",
              "#sk-container-id-2 div.sk-label label {\n",
              "  font-family: monospace;\n",
              "  font-weight: bold;\n",
              "  display: inline-block;\n",
              "  line-height: 1.2em;\n",
              "}\n",
              "\n",
              "#sk-container-id-2 div.sk-label-container {\n",
              "  text-align: center;\n",
              "}\n",
              "\n",
              "/* Estimator-specific */\n",
              "#sk-container-id-2 div.sk-estimator {\n",
              "  font-family: monospace;\n",
              "  border: 1px dotted var(--sklearn-color-border-box);\n",
              "  border-radius: 0.25em;\n",
              "  box-sizing: border-box;\n",
              "  margin-bottom: 0.5em;\n",
              "  /* unfitted */\n",
              "  background-color: var(--sklearn-color-unfitted-level-0);\n",
              "}\n",
              "\n",
              "#sk-container-id-2 div.sk-estimator.fitted {\n",
              "  /* fitted */\n",
              "  background-color: var(--sklearn-color-fitted-level-0);\n",
              "}\n",
              "\n",
              "/* on hover */\n",
              "#sk-container-id-2 div.sk-estimator:hover {\n",
              "  /* unfitted */\n",
              "  background-color: var(--sklearn-color-unfitted-level-2);\n",
              "}\n",
              "\n",
              "#sk-container-id-2 div.sk-estimator.fitted:hover {\n",
              "  /* fitted */\n",
              "  background-color: var(--sklearn-color-fitted-level-2);\n",
              "}\n",
              "\n",
              "/* Specification for estimator info (e.g. \"i\" and \"?\") */\n",
              "\n",
              "/* Common style for \"i\" and \"?\" */\n",
              "\n",
              ".sk-estimator-doc-link,\n",
              "a:link.sk-estimator-doc-link,\n",
              "a:visited.sk-estimator-doc-link {\n",
              "  float: right;\n",
              "  font-size: smaller;\n",
              "  line-height: 1em;\n",
              "  font-family: monospace;\n",
              "  background-color: var(--sklearn-color-background);\n",
              "  border-radius: 1em;\n",
              "  height: 1em;\n",
              "  width: 1em;\n",
              "  text-decoration: none !important;\n",
              "  margin-left: 0.5em;\n",
              "  text-align: center;\n",
              "  /* unfitted */\n",
              "  border: var(--sklearn-color-unfitted-level-1) 1pt solid;\n",
              "  color: var(--sklearn-color-unfitted-level-1);\n",
              "}\n",
              "\n",
              ".sk-estimator-doc-link.fitted,\n",
              "a:link.sk-estimator-doc-link.fitted,\n",
              "a:visited.sk-estimator-doc-link.fitted {\n",
              "  /* fitted */\n",
              "  border: var(--sklearn-color-fitted-level-1) 1pt solid;\n",
              "  color: var(--sklearn-color-fitted-level-1);\n",
              "}\n",
              "\n",
              "/* On hover */\n",
              "div.sk-estimator:hover .sk-estimator-doc-link:hover,\n",
              ".sk-estimator-doc-link:hover,\n",
              "div.sk-label-container:hover .sk-estimator-doc-link:hover,\n",
              ".sk-estimator-doc-link:hover {\n",
              "  /* unfitted */\n",
              "  background-color: var(--sklearn-color-unfitted-level-3);\n",
              "  color: var(--sklearn-color-background);\n",
              "  text-decoration: none;\n",
              "}\n",
              "\n",
              "div.sk-estimator.fitted:hover .sk-estimator-doc-link.fitted:hover,\n",
              ".sk-estimator-doc-link.fitted:hover,\n",
              "div.sk-label-container:hover .sk-estimator-doc-link.fitted:hover,\n",
              ".sk-estimator-doc-link.fitted:hover {\n",
              "  /* fitted */\n",
              "  background-color: var(--sklearn-color-fitted-level-3);\n",
              "  color: var(--sklearn-color-background);\n",
              "  text-decoration: none;\n",
              "}\n",
              "\n",
              "/* Span, style for the box shown on hovering the info icon */\n",
              ".sk-estimator-doc-link span {\n",
              "  display: none;\n",
              "  z-index: 9999;\n",
              "  position: relative;\n",
              "  font-weight: normal;\n",
              "  right: .2ex;\n",
              "  padding: .5ex;\n",
              "  margin: .5ex;\n",
              "  width: min-content;\n",
              "  min-width: 20ex;\n",
              "  max-width: 50ex;\n",
              "  color: var(--sklearn-color-text);\n",
              "  box-shadow: 2pt 2pt 4pt #999;\n",
              "  /* unfitted */\n",
              "  background: var(--sklearn-color-unfitted-level-0);\n",
              "  border: .5pt solid var(--sklearn-color-unfitted-level-3);\n",
              "}\n",
              "\n",
              ".sk-estimator-doc-link.fitted span {\n",
              "  /* fitted */\n",
              "  background: var(--sklearn-color-fitted-level-0);\n",
              "  border: var(--sklearn-color-fitted-level-3);\n",
              "}\n",
              "\n",
              ".sk-estimator-doc-link:hover span {\n",
              "  display: block;\n",
              "}\n",
              "\n",
              "/* \"?\"-specific style due to the `<a>` HTML tag */\n",
              "\n",
              "#sk-container-id-2 a.estimator_doc_link {\n",
              "  float: right;\n",
              "  font-size: 1rem;\n",
              "  line-height: 1em;\n",
              "  font-family: monospace;\n",
              "  background-color: var(--sklearn-color-background);\n",
              "  border-radius: 1rem;\n",
              "  height: 1rem;\n",
              "  width: 1rem;\n",
              "  text-decoration: none;\n",
              "  /* unfitted */\n",
              "  color: var(--sklearn-color-unfitted-level-1);\n",
              "  border: var(--sklearn-color-unfitted-level-1) 1pt solid;\n",
              "}\n",
              "\n",
              "#sk-container-id-2 a.estimator_doc_link.fitted {\n",
              "  /* fitted */\n",
              "  border: var(--sklearn-color-fitted-level-1) 1pt solid;\n",
              "  color: var(--sklearn-color-fitted-level-1);\n",
              "}\n",
              "\n",
              "/* On hover */\n",
              "#sk-container-id-2 a.estimator_doc_link:hover {\n",
              "  /* unfitted */\n",
              "  background-color: var(--sklearn-color-unfitted-level-3);\n",
              "  color: var(--sklearn-color-background);\n",
              "  text-decoration: none;\n",
              "}\n",
              "\n",
              "#sk-container-id-2 a.estimator_doc_link.fitted:hover {\n",
              "  /* fitted */\n",
              "  background-color: var(--sklearn-color-fitted-level-3);\n",
              "}\n",
              "</style><div id=\"sk-container-id-2\" class=\"sk-top-container\"><div class=\"sk-text-repr-fallback\"><pre>LinearRegression()</pre><b>In a Jupyter environment, please rerun this cell to show the HTML representation or trust the notebook. <br />On GitHub, the HTML representation is unable to render, please try loading this page with nbviewer.org.</b></div><div class=\"sk-container\" hidden><div class=\"sk-item\"><div class=\"sk-estimator fitted sk-toggleable\"><input class=\"sk-toggleable__control sk-hidden--visually\" id=\"sk-estimator-id-2\" type=\"checkbox\" checked><label for=\"sk-estimator-id-2\" class=\"sk-toggleable__label fitted sk-toggleable__label-arrow\"><div><div>LinearRegression</div></div><div><a class=\"sk-estimator-doc-link fitted\" rel=\"noreferrer\" target=\"_blank\" href=\"https://scikit-learn.org/1.6/modules/generated/sklearn.linear_model.LinearRegression.html\">?<span>Documentation for LinearRegression</span></a><span class=\"sk-estimator-doc-link fitted\">i<span>Fitted</span></span></div></label><div class=\"sk-toggleable__content fitted\"><pre>LinearRegression()</pre></div> </div></div></div></div>"
            ],
            "text/plain": [
              "LinearRegression()"
            ]
          },
          "execution_count": 4,
          "metadata": {},
          "output_type": "execute_result"
        }
      ],
      "source": [
        "# Initialize and train the model\n",
        "model = LinearRegression()\n",
        "model.fit(X, y)"
      ]
    },
    {
      "cell_type": "code",
      "execution_count": null,
      "metadata": {
        "id": "sdipjxTqC7hz"
      },
      "outputs": [],
      "source": [
        "# Make predictions\n",
        "y_pred = model.predict(X)"
      ]
    },
    {
      "cell_type": "code",
      "execution_count": null,
      "metadata": {
        "id": "uohcmeamC_P6"
      },
      "outputs": [],
      "source": [
        "# Evaluate the model\n",
        "mse = mean_squared_error(y, y_pred)\n",
        "r2 = r2_score(y, y_pred)"
      ]
    },
    {
      "cell_type": "code",
      "execution_count": null,
      "metadata": {
        "colab": {
          "base_uri": "https://localhost:8080/"
        },
        "id": "isvzkglJDFFE",
        "outputId": "7d1ffc32-0921-4c9c-83c3-2fb715bcb80c"
      },
      "outputs": [
        {
          "name": "stdout",
          "output_type": "stream",
          "text": [
            "Linear Regression Equation: y = a * x + b\n",
            "Slope (a): 1.170\n",
            "Intercept (b): -2.662\n",
            "Mean Squared Error: 0.035\n",
            "R² Score: 0.992\n"
          ]
        }
      ],
      "source": [
        "# Display results\n",
        "print(\"Linear Regression Equation: y = a * x + b\")\n",
        "print(f\"Slope (a): {model.coef_[0]:.3f}\")\n",
        "print(f\"Intercept (b): {model.intercept_:.3f}\")\n",
        "print(f\"Mean Squared Error: {mse:.3f}\")\n",
        "print(f\"R² Score: {r2:.3f}\")"
      ]
    },
    {
      "cell_type": "code",
      "execution_count": null,
      "metadata": {
        "colab": {
          "base_uri": "https://localhost:8080/",
          "height": 487
        },
        "id": "m2h3XV6LDITU",
        "outputId": "ca14bea6-e930-4f75-d5ad-26bf096f4d1b"
      },
      "outputs": [
        {
          "data": {
            "image/png": "[encoded data removed]",
            "text/plain": [
              "<Figure size 800x500 with 1 Axes>"
            ]
          },
          "metadata": {},
          "output_type": "display_data"
        }
      ],
      "source": [
        "# Visualization\n",
        "plt.figure(figsize=(8, 5))\n",
        "plt.scatter(X, y, color='blue', label='Actual Data')\n",
        "plt.plot(X, y_pred, color='red', linewidth=2, label='Regression Line')\n",
        "plt.title(\"Linear Regression: Happiness Score vs Sleep Hours\")\n",
        "plt.xlabel(\"Hours of Sleep\")\n",
        "plt.ylabel(\"Happiness Score\")\n",
        "plt.legend()\n",
        "plt.grid(True)\n",
        "plt.show()"
      ]
    },
    {
      "cell_type": "markdown",
      "metadata": {
        "id": "d_RIuBHBDiau"
      },
      "source": [
        "We model the relationship between hours of sleep and self-reported happiness.\n",
        "\n",
        "LinearRegression is used from scikit-learn to fit the model.\n",
        "\n",
        "The slope and intercept define the best-fit line using least squares minimization.\n",
        "\n",
        "We evaluate the model using Mean Squared Error (MSE) and R² Score, which quantify prediction error and explanatory power.\n",
        "\n",
        "The plot shows how well the model fits the actual data visually."
      ]
    },
    {
      "cell_type": "markdown",
      "metadata": {
        "id": "GXODp7QZIAAq"
      },
      "source": [
        "## Polynomial Regression\n"
      ]
    },
    {
      "cell_type": "markdown",
      "metadata": {
        "id": "_JWJcSXXJKHk"
      },
      "source": [
        "### Introduction Polynomial Regression"
      ]
    },
    {
      "cell_type": "markdown",
      "metadata": {
        "id": "CoLJot82JilV"
      },
      "source": [
        "####  Introduction\n",
        "\n",
        "> Polynomial Regression is a form of regression analysis where the relationship between the independent variable **x** and the dependent variable **y** is modeled as an *nth-degree polynomial*. It extends the concept of linear regression by introducing polynomial terms to capture nonlinear patterns in data. Despite being a linear model in terms of coefficients, the incorporation of higher-order terms allows it to model complex and curved relationships.\n",
        "\n",
        "---\n",
        "\n",
        "#### Applications of Polynomial Regression\n",
        "\n",
        "> Polynomial regression is widely used in areas where data exhibits curvature or non-linear tendencies. Typical applications include:\n",
        "\n",
        "- **Economics**: Modeling cost-revenue relationships\n",
        "- **Biology**: Describing growth curves and enzyme activities\n",
        "- **Physics**: Modeling motion trajectories\n",
        "- **Machine Learning**: As a benchmark for evaluating non-linear regression models\n",
        "- **Environmental Science**: Predicting pollution concentration trends\n",
        "\n",
        "---\n",
        "\n",
        "#### Advantages:\n",
        "- **Flexibility**: Capable of modeling a wide variety of curvatures.\n",
        "- **Simplicity**: Easy to implement using standard linear regression frameworks.\n",
        "- **Interpretability**: Coefficients have clear mathematical significance.\n",
        "\n",
        "#### Disadvantages:\n",
        "- **Overfitting**: High-degree polynomials can perfectly fit training data but generalize poorly.\n",
        "- **Extrapolation Risk**: Predictions outside the data range can become wildly inaccurate.\n",
        "- **Multicollinearity**: Higher-order terms can be highly correlated, leading to unstable estimates.\n",
        "\n",
        "#### Mathematical & Logical Understanding\n",
        "\n",
        "Polynomial regression attempts to fit the following general form:\n",
        "\n",
        "$$\n",
        "y = \\beta_0 + \\beta_1x + \\beta_2x^2 + \\cdots + \\beta_nx^n + \\epsilon\n",
        "$$\n",
        "\n",
        "Where:\n",
        "- \\( $y$ \\): dependent variable (target)\n",
        "- \\( x \\): independent variable (feature)\n",
        "- \\( $\\beta_i$ \\): coefficients to be estimated\n",
        "- \\( $\\epsilon$ \\): error term\n",
        "\n",
        "To find the optimal values of the coefficients \\( $\\beta$ \\), we typically use **Ordinary Least Squares (OLS)**:\n",
        "\n",
        "$$\n",
        "\\hat{\\boldsymbol{\\beta}} = (\\mathbf{X}^T\\mathbf{X})^{-1} \\mathbf{X}^T \\mathbf{y}\n",
        "$$\n",
        "\n",
        "Where:\n",
        "- \\( $\\mathbf{X}$ \\) is the design matrix containing \\( $x$, $x^2$, $\\dots$, $x^n$ \\)\n",
        "- \\( $\\mathbf{y}$ \\) is the vector of observations\n",
        "\n",
        "This transforms the polynomial regression problem into a linear algebra problem that can be solved efficiently."
      ]
    },
    {
      "cell_type": "markdown",
      "metadata": {
        "id": "vGEge32QOIGV"
      },
      "source": [
        "#### What is  $\\mathbf{X}^T$   ?\n",
        "\n",
        "#### **Transpose of a Matrix**\n",
        "\n",
        "> The **transpose** of a matrix is an operation that flips the matrix over its diagonal, turning its rows into columns and its columns into rows. It is denoted by the superscript \\( $T$ \\). For a given matrix \\( $\\mathbf{A}$ \\), the transpose is written as \\( $\\mathbf{A}^T$ \\).\n",
        "\n",
        "---\n",
        "\n",
        "#### **Example**\n",
        "\n",
        "Consider the matrix :\n",
        "\n",
        "$$\n",
        "\\mathbf{A} =\n",
        "\\begin{bmatrix}\n",
        "1 & 2 & 3 \\\\\n",
        "4 & 5 & 6 \\\\\n",
        "\\end{bmatrix}\n",
        "$$\n",
        "\n",
        "The transpose \\( $\\mathbf{A}^T$ \\) is :\n",
        "\n",
        "$$\n",
        "\\mathbf{A}^T =\n",
        "\\begin{bmatrix}\n",
        "1 & 4 \\\\\n",
        "2 & 5 \\\\\n",
        "3 & 6 \\\\\n",
        "\\end{bmatrix}\n",
        "$$\n",
        "\n",
        "The number of rows and columns are swapped, but the elements remain in their original relative order.\n"
      ]
    },
    {
      "cell_type": "markdown",
      "metadata": {
        "id": "CrRIh-_cSN7-"
      },
      "source": [
        "#### Feature Matrix in Polynomial Regression and More Details\n",
        "\n",
        "The feature matrix \\( $\\mathbf{X}$ \\) plays a fundamental role in polynomial regression. For a polynomial of degree 2, the model can be written as:\n",
        "\n",
        "$$\n",
        "y = \\beta_0 + \\beta_1 x + \\beta_2 x^2 + \\epsilon\n",
        "$$\n",
        "\n",
        "where:  \n",
        "- \\( $\\beta_0$ \\) is the intercept (bias),  \n",
        "- \\( $\\beta_1$ \\) and \\( $\\beta_2$ \\) are coefficients,  \n",
        "- \\( $\\epsilon$ \\) is the error term.\n",
        "\n",
        "The corresponding feature matrix \\( $\\mathbf{X}$ \\) for \\( $m$ \\) data points \\( $x_1$, $x_2$, $\\ldots$, $x_m$ \\) is:\n",
        "\n",
        "$$\n",
        "\\mathbf{X} =\n",
        "\\begin{bmatrix}\n",
        "1 & x_1 & x_1^2 \\\\\n",
        "1 & x_2 & x_2^2 \\\\\n",
        "\\vdots & \\vdots & \\vdots \\\\\n",
        "1 & x_m & x_m^2 \\\\\n",
        "\\end{bmatrix}\n",
        "$$\n",
        "\n",
        "For example, if \\( x = [2, 5, 7] \\), then:\n",
        "\n",
        "$$\n",
        "\\mathbf{X} =\n",
        "\\begin{bmatrix}\n",
        "1 & 2 & 4 \\\\\n",
        "1 & 5 & 25 \\\\\n",
        "1 & 7 & 49 \\\\\n",
        "\\end{bmatrix}\n",
        "$$\n",
        "\n",
        "---\n",
        "\n",
        "#### Bias in Regression Models\n",
        "\n",
        "The term **bias** (also called the intercept) in regression models refers to the constant term \\( $\\beta_0$ \\) that allows the regression line or curve to fit the data better by shifting vertically. In matrix form, bias is incorporated by including a column of ones in the feature matrix \\( $\\mathbf{X}$ \\).\n",
        "\n",
        "---\n",
        "\n",
        "#### Estimating Coefficients Using the Normal Equation\n",
        "\n",
        "The coefficients \\( $\\hat{\\boldsymbol{\\beta}}$ \\) of a polynomial regression model can be calculated using the normal equation:\n",
        "\n",
        "$$\n",
        "\\hat{\\boldsymbol{\\beta}} = (\\mathbf{X}^T \\mathbf{X})^{-1} \\mathbf{X}^T \\mathbf{y}\n",
        "$$\n",
        "\n",
        "Here,  \n",
        "- \\( $\\mathbf{X}$ \\) is the feature matrix (including the bias column),  \n",
        "- \\( $\\mathbf{y}$ \\) is the target vector,  \n",
        "- \\( $\\hat{\\boldsymbol{\\beta}}$ \\) is a vector of estimated coefficients (including bias and slopes).\n",
        "\n",
        "---\n",
        "\n",
        "#### Example: Linear Regression With and Without Bias\n",
        "\n",
        "Consider the dataset:\n",
        "\n",
        "| \\( x \\) | \\( y \\) |\n",
        "|---------|---------|\n",
        "| 1       | 2       |\n",
        "| 2       | 3       |\n",
        "| 3       | 5       |\n",
        "\n",
        "#### Without Bias (No Intercept)\n",
        "\n",
        "The model assumes the line passes through the origin:\n",
        "\n",
        "$$\n",
        "y = \\beta_1 x + \\epsilon\n",
        "$$\n",
        "\n",
        "Feature matrix:\n",
        "\n",
        "$$\n",
        "\\mathbf{X} =\n",
        "\\begin{bmatrix}\n",
        "1 \\\\\n",
        "2 \\\\\n",
        "3 \\\\\n",
        "\\end{bmatrix}\n",
        "$$\n",
        "\n",
        "Target vector:\n",
        "\n",
        "$$\n",
        "\\mathbf{y} =\n",
        "\\begin{bmatrix}\n",
        "2 \\\\\n",
        "3 \\\\\n",
        "5 \\\\\n",
        "\\end{bmatrix}\n",
        "$$\n",
        "\n",
        "Coefficient is calculated as:\n",
        "\n",
        "$$\n",
        "\\hat{\\beta}_1 = (\\mathbf{X}^T \\mathbf{X})^{-1} \\mathbf{X}^T \\mathbf{y} = \\frac{23}{14} \\approx 1.6429\n",
        "$$\n",
        "\n",
        "Resulting model:\n",
        "\n",
        "$$\n",
        "\\hat{y} = 1.6429 x\n",
        "$$\n",
        "\n",
        "---\n",
        "\n",
        "#### With Bias (Intercept Included)\n",
        "\n",
        "The model is:\n",
        "\n",
        "$$\n",
        "y = \\beta_0 + \\beta_1 x + \\epsilon\n",
        "$$\n",
        "\n",
        "Feature matrix with bias:\n",
        "\n",
        "$$\n",
        "\\mathbf{X} =\n",
        "\\begin{bmatrix}\n",
        "1 & 1 \\\\\n",
        "1 & 2 \\\\\n",
        "1 & 3 \\\\\n",
        "\\end{bmatrix}\n",
        "$$\n",
        "\n",
        "Target vector is the same as above.\n",
        "\n",
        "Calculations:\n",
        "\n",
        "$$\n",
        "\\mathbf{X}^T \\mathbf{X} =\n",
        "\\begin{bmatrix}\n",
        "3 & 6 \\\\\n",
        "6 & 14 \\\\\n",
        "\\end{bmatrix}\n",
        "\\quad,\\quad\n",
        "\\mathbf{X}^T \\mathbf{y} =\n",
        "\\begin{bmatrix}\n",
        "10 \\\\\n",
        "23 \\\\\n",
        "\\end{bmatrix}\n",
        "$$\n",
        "\n",
        "The inverse of \\( $\\mathbf{X}^T \\mathbf{X}$ \\) is:\n",
        "\n",
        "$$\n",
        "(\\mathbf{X}^T \\mathbf{X})^{-1} = \\frac{1}{6}\n",
        "\\begin{bmatrix}\n",
        "14 & -6 \\\\\n",
        "-6 & 3 \\\\\n",
        "\\end{bmatrix}\n",
        "$$\n",
        "\n",
        "Estimating coefficients:\n",
        "\n",
        "$$\n",
        "\\hat{\\boldsymbol{\\beta}} = \\frac{1}{6}\n",
        "\\begin{bmatrix}\n",
        "14 & -6 \\\\\n",
        "-6 & 3 \\\\\n",
        "\\end{bmatrix}\n",
        "\\begin{bmatrix}\n",
        "10 \\\\\n",
        "23 \\\\\n",
        "\\end{bmatrix}\n",
        "= \\frac{1}{6}\n",
        "\\begin{bmatrix}\n",
        "2 \\\\\n",
        "9 \\\\\n",
        "\\end{bmatrix}\n",
        "=\n",
        "\\begin{bmatrix}\n",
        "\\beta_0 \\\\\n",
        "\\beta_1 \\\\\n",
        "\\end{bmatrix}\n",
        "=\n",
        "\\begin{bmatrix}\n",
        "0.3333 \\\\\n",
        "1.5 \\\\\n",
        "\\end{bmatrix}\n",
        "$$\n",
        "\n",
        "Resulting model:\n",
        "\n",
        "$$\n",
        "\\hat{y} = 0.3333 + 1.5 x\n",
        "$$\n",
        "\n",
        "---\n",
        "\n",
        "#### Interpretation\n",
        "\n",
        "- The vector \\( $\\hat{\\boldsymbol{\\beta}}$ \\) contains all estimated coefficients. In the example above, \\( $\\hat{\\beta}_0 = 0.3333$ \\) is the bias (intercept), and \\( $\\hat{\\beta}_1 = 1.5$ \\) is the slope.\n",
        "- Including bias allows the regression line to shift vertically, providing a better fit when the data does not pass through the origin.\n",
        "- Without bias, the model is constrained to pass through (0,0), which may increase error if data points are offset.\n"
      ]
    },
    {
      "cell_type": "markdown",
      "metadata": {
        "id": "PYAl6jbcYHxl"
      },
      "source": [
        "### Example Code"
      ]
    },
    {
      "cell_type": "markdown",
      "metadata": {
        "id": "3EALhgZrYRIl"
      },
      "source": [
        "1 . Initially, polynomial regression is computed without using any external modules."
      ]
    },
    {
      "cell_type": "code",
      "execution_count": null,
      "metadata": {
        "colab": {
          "base_uri": "https://localhost:8080/"
        },
        "id": "IN4WB-v4YMSv",
        "outputId": "16a7b623-b117-46e2-b2a0-d36ef57e27e3"
      },
      "outputs": [
        {
          "name": "stdout",
          "output_type": "stream",
          "text": [
            "[-5.         -4.65517241 -4.31034483 -3.96551724 -3.62068966 -3.27586207\n",
            " -2.93103448 -2.5862069  -2.24137931 -1.89655172 -1.55172414 -1.20689655\n",
            " -0.86206897 -0.51724138 -0.17241379  0.17241379  0.51724138  0.86206897\n",
            "  1.20689655  1.55172414  1.89655172  2.24137931  2.5862069   2.93103448\n",
            "  3.27586207  3.62068966  3.96551724  4.31034483  4.65517241  5.        ]\n"
          ]
        }
      ],
      "source": [
        "import numpy as np\n",
        "import matplotlib.pyplot as plt\n",
        "\n",
        "# Generating Sample Data\n",
        "# We create a dataset based on a quadratic function with some noise.\n",
        "# True function: y = 2 + 3x - 0.5x^2\n",
        "np.random.seed(42)  # For reproducibility\n",
        "\n",
        "# Generate 30 points uniformly spaced between -5 and 5\n",
        "X_raw = np.linspace(-5, 5, 30)\n",
        "print(X_raw)"
      ]
    },
    {
      "cell_type": "code",
      "execution_count": null,
      "metadata": {
        "colab": {
          "base_uri": "https://localhost:8080/"
        },
        "id": "Okj02KtcZWcR",
        "outputId": "93a56917-cdf7-4223-93c0-8a629f98e016"
      },
      "outputs": [
        {
          "name": "stdout",
          "output_type": "stream",
          "text": [
            "[ 1.49014246 -0.4147929   1.94306561  4.56908957 -0.70246012 -0.70241087\n",
            "  4.73763845  2.30230419 -1.40842316  1.62768013 -1.39025308 -1.39718926\n",
            "  0.72588681 -5.73984073 -5.1747535  -1.68686259 -3.03849336  0.942742\n",
            " -2.72407223 -4.2369111   4.39694631 -0.6773289   0.20258461 -4.27424456\n",
            " -1.63314817  0.33276777 -3.45298073  1.12709406 -1.80191607 -0.87508125]\n",
            "-------------------------------------------------------------------------\n",
            "[-24.00985754 -23.21562525 -18.27750513 -13.19012565 -16.11922588\n",
            " -13.89563323  -6.35094657  -6.80054956  -8.6444517   -3.86042926\n",
            "  -5.24934939  -3.74617856  -0.23190153  -5.42533419  -3.70685813\n",
            "   0.81551553   0.37946145   5.15736744   2.16831779   1.21433741\n",
            "  10.28814726   5.53491842   6.61697225   2.22337732   4.82880189\n",
            "   6.64013995   2.5809075    6.76859227   3.32828607   3.62491875]\n"
          ]
        }
      ],
      "source": [
        "# Generate target values with noise\n",
        "noise = np.random.normal(0, 3, X_raw.shape)\n",
        "print(noise)\n",
        "print(\"-\"*73)\n",
        "y = 2 + 3 * X_raw - 0.5 * (X_raw ** 2) + noise\n",
        "print(y)"
      ]
    },
    {
      "cell_type": "code",
      "execution_count": null,
      "metadata": {
        "colab": {
          "base_uri": "https://localhost:8080/",
          "height": 467
        },
        "id": "X6MYrJ9NbwDG",
        "outputId": "05a7178b-a060-4228-c03a-9e3f632a137b"
      },
      "outputs": [
        {
          "data": {
            "text/plain": [
              "Text(0, 0.5, 'y')"
            ]
          },
          "execution_count": 50,
          "metadata": {},
          "output_type": "execute_result"
        },
        {
          "data": {
            "image/png": "[encoded data removed]",
            "text/plain": [
              "<Figure size 640x480 with 1 Axes>"
            ]
          },
          "metadata": {},
          "output_type": "display_data"
        }
      ],
      "source": [
        "plt.scatter(X_raw, y, color='red')\n",
        "plt.xlabel(\"x\")\n",
        "plt.ylabel(\"y\")"
      ]
    },
    {
      "cell_type": "code",
      "execution_count": null,
      "metadata": {
        "colab": {
          "base_uri": "https://localhost:8080/"
        },
        "id": "QSiaXYszZqKQ",
        "outputId": "f3bef12c-7138-4d83-e373-c28048d5182b"
      },
      "outputs": [
        {
          "name": "stdout",
          "output_type": "stream",
          "text": [
            "[[ 1.         -5.         25.        ]\n",
            " [ 1.         -4.65517241 21.6706302 ]\n",
            " [ 1.         -4.31034483 18.57907253]\n",
            " [ 1.         -3.96551724 15.72532699]\n",
            " [ 1.         -3.62068966 13.10939358]\n",
            " [ 1.         -3.27586207 10.73127229]\n",
            " [ 1.         -2.93103448  8.59096314]\n",
            " [ 1.         -2.5862069   6.68846611]\n",
            " [ 1.         -2.24137931  5.02378121]\n",
            " [ 1.         -1.89655172  3.59690844]\n",
            " [ 1.         -1.55172414  2.4078478 ]\n",
            " [ 1.         -1.20689655  1.45659929]\n",
            " [ 1.         -0.86206897  0.7431629 ]\n",
            " [ 1.         -0.51724138  0.26753864]\n",
            " [ 1.         -0.17241379  0.02972652]\n",
            " [ 1.          0.17241379  0.02972652]\n",
            " [ 1.          0.51724138  0.26753864]\n",
            " [ 1.          0.86206897  0.7431629 ]\n",
            " [ 1.          1.20689655  1.45659929]\n",
            " [ 1.          1.55172414  2.4078478 ]\n",
            " [ 1.          1.89655172  3.59690844]\n",
            " [ 1.          2.24137931  5.02378121]\n",
            " [ 1.          2.5862069   6.68846611]\n",
            " [ 1.          2.93103448  8.59096314]\n",
            " [ 1.          3.27586207 10.73127229]\n",
            " [ 1.          3.62068966 13.10939358]\n",
            " [ 1.          3.96551724 15.72532699]\n",
            " [ 1.          4.31034483 18.57907253]\n",
            " [ 1.          4.65517241 21.6706302 ]\n",
            " [ 1.          5.         25.        ]]\n"
          ]
        }
      ],
      "source": [
        "# Preparing the Feature Matrix for Polynomial Degree 2\n",
        "# We add a bias column (ones), x, and x squared columns.\n",
        "X = np.vstack([np.ones_like(X_raw), X_raw, X_raw**2]).T\n",
        "print(X)"
      ]
    },
    {
      "cell_type": "code",
      "execution_count": null,
      "metadata": {
        "colab": {
          "base_uri": "https://localhost:8080/"
        },
        "id": "yi3JrEs_aI5c",
        "outputId": "38923814-8b24-4cf2-d44e-6b3900191fc8"
      },
      "outputs": [
        {
          "name": "stdout",
          "output_type": "stream",
          "text": [
            "[ 0.61931724  2.69428485 -0.40837025]\n"
          ]
        }
      ],
      "source": [
        "# Calculating coefficients using the Normal Equation\n",
        "# beta_hat = (X^T X)^(-1) X^T y\n",
        "XtX = X.T @ X\n",
        "XtX_inv = np.linalg.inv(XtX)\n",
        "Xty = X.T @ y\n",
        "beta_hat = XtX_inv @ Xty\n",
        "print(beta_hat)"
      ]
    },
    {
      "cell_type": "code",
      "execution_count": null,
      "metadata": {
        "colab": {
          "base_uri": "https://localhost:8080/"
        },
        "id": "674a-TL7at2g",
        "outputId": "68108bbd-cde7-414e-ea93-5d114ca947dc"
      },
      "outputs": [
        {
          "name": "stdout",
          "output_type": "stream",
          "text": [
            "Estimated coefficients:\n",
            "Intercept (bias): 0.6193\n",
            "Coefficient for x: 2.6943\n",
            "Coefficient for x^2: -0.4084\n"
          ]
        }
      ],
      "source": [
        "# Displaying the estimated coefficients\n",
        "print(\"Estimated coefficients:\")\n",
        "print(f\"Intercept (bias): {beta_hat[0]:.4f}\")\n",
        "print(f\"Coefficient for x: {beta_hat[1]:.4f}\")\n",
        "print(f\"Coefficient for x^2: {beta_hat[2]:.4f}\")"
      ]
    },
    {
      "cell_type": "code",
      "execution_count": null,
      "metadata": {
        "colab": {
          "base_uri": "https://localhost:8080/"
        },
        "id": "NTg_waU-eKDG",
        "outputId": "542bb0f8-20d4-4ae2-94b7-8300cb10d346"
      },
      "outputs": [
        {
          "name": "stdout",
          "output_type": "stream",
          "text": [
            "True Function :  y = 2 + 3x - 0.5x^2\n",
            "Obtained Function : y = 0.6193 + 2.6943x - -0.4084x^2\n"
          ]
        }
      ],
      "source": [
        "# Displaying the true function and obtained function\n",
        "print(\"True Function :  y = 2 + 3x - 0.5x^2\")\n",
        "print(f\"Obtained Function : y = {beta_hat[0]:.4f} + {beta_hat[1]:.4f}x - {beta_hat[2]:.4f}x^2\")"
      ]
    },
    {
      "cell_type": "code",
      "execution_count": null,
      "metadata": {
        "colab": {
          "base_uri": "https://localhost:8080/"
        },
        "id": "gQpcgvcYckO3",
        "outputId": "cc53c2bd-9aef-441f-f660-2c98699f3578"
      },
      "outputs": [
        {
          "name": "stdout",
          "output_type": "stream",
          "text": [
            "[-23.06136312 -20.77268382 -18.58111992 -16.48667141 -14.4893383\n",
            " -12.58912059 -10.78601827  -9.08003135  -7.47115983  -5.95940371\n",
            "  -4.54476298  -3.22723765  -2.00682772  -0.88353319   0.14264595\n",
            "   1.07170969   1.90365803   2.63849098   3.27620853   3.81681068\n",
            "   4.26029743   4.60666879   4.85592475   5.00806531   5.06309048\n",
            "   5.02100025   4.88179462   4.64547359   4.31203717   3.88148535]\n"
          ]
        }
      ],
      "source": [
        "# Predicting values using the learned model\n",
        "y_pred = X @ beta_hat\n",
        "print(y_pred)"
      ]
    },
    {
      "cell_type": "code",
      "execution_count": null,
      "metadata": {
        "colab": {
          "base_uri": "https://localhost:8080/",
          "height": 472
        },
        "id": "KjcyeEL7eDRF",
        "outputId": "8f1d87b1-7e27-4187-97d5-53e73c9fadc2"
      },
      "outputs": [
        {
          "data": {
            "image/png": "[encoded data removed]",
            "text/plain": [
              "<Figure size 640x480 with 1 Axes>"
            ]
          },
          "metadata": {},
          "output_type": "display_data"
        }
      ],
      "source": [
        "# Plotting original data and fitted curve\n",
        "plt.scatter(X_raw, y, color='blue', label='Noisy data')\n",
        "plt.plot(X_raw, y_pred, color='red', label='Fitted polynomial curve')\n",
        "plt.title(\"Polynomial Regression (Degree 2) Fit\")\n",
        "plt.xlabel(\"x\")\n",
        "plt.ylabel(\"y\")\n",
        "plt.legend()\n",
        "plt.grid(True)\n",
        "plt.show()"
      ]
    },
    {
      "cell_type": "markdown",
      "metadata": {
        "id": "lqt3-AnMZKQJ"
      },
      "source": [
        "2 . Polynomial Regression is calculated using the NumPy library."
      ]
    },
    {
      "cell_type": "code",
      "execution_count": null,
      "metadata": {
        "id": "kDIRfKWWlXMs"
      },
      "outputs": [],
      "source": [
        "import numpy as np\n",
        "import matplotlib.pyplot as plt"
      ]
    },
    {
      "cell_type": "code",
      "execution_count": null,
      "metadata": {
        "id": "h0FgD3JPcjqZ"
      },
      "outputs": [],
      "source": [
        "# In this section, the data generated previously is utilized\n",
        "\n",
        "# Fit polynomial model using np.polyfit\n",
        "# np.polyfit returns coefficients [a2, a1, a0] for a2*x^2 + a1*x + a0\n",
        "degree = 2\n",
        "coeffs = np.polyfit(X_raw, y, degree)"
      ]
    },
    {
      "cell_type": "code",
      "execution_count": null,
      "metadata": {
        "id": "B1OzPqW9ZKoW"
      },
      "outputs": [],
      "source": [
        "# Create a polynomial function from the coefficients\n",
        "model = np.poly1d(coeffs)"
      ]
    },
    {
      "cell_type": "code",
      "execution_count": null,
      "metadata": {
        "colab": {
          "base_uri": "https://localhost:8080/"
        },
        "id": "eXiiwGgLlouO",
        "outputId": "2bb69055-5c15-493b-aaeb-0a79b9213d44"
      },
      "outputs": [
        {
          "name": "stdout",
          "output_type": "stream",
          "text": [
            "Estimated polynomial coefficients:\n",
            "a2 (x^2 term): -0.4084\n",
            "a1 (x term): 2.6943\n",
            "a0 (constant term / bias): 0.6193\n"
          ]
        }
      ],
      "source": [
        "# Display the estimated polynomial coefficients\n",
        "print(\"Estimated polynomial coefficients:\")\n",
        "print(f\"a2 (x^2 term): {coeffs[0]:.4f}\")\n",
        "print(f\"a1 (x term): {coeffs[1]:.4f}\")\n",
        "print(f\"a0 (constant term / bias): {coeffs[2]:.4f}\")"
      ]
    },
    {
      "cell_type": "code",
      "execution_count": null,
      "metadata": {
        "colab": {
          "base_uri": "https://localhost:8080/"
        },
        "id": "qzLrwGbWl3wk",
        "outputId": "35a287ee-e7e5-4764-b718-306bdb0427a0"
      },
      "outputs": [
        {
          "name": "stdout",
          "output_type": "stream",
          "text": [
            "True Function :  y = 2 + 3x - 0.5x^2\n",
            "Obtained Function : y = 0.6193 + 2.6943x - -0.4084x^2\n"
          ]
        }
      ],
      "source": [
        "# Displaying the true function and obtained function\n",
        "print(\"True Function :  y = 2 + 3x - 0.5x^2\")\n",
        "print(f\"Obtained Function : y = {coeffs[2]:.4f} + {coeffs[1]:.4f}x - {coeffs[0]:.4f}x^2\")"
      ]
    },
    {
      "cell_type": "code",
      "execution_count": null,
      "metadata": {
        "colab": {
          "base_uri": "https://localhost:8080/"
        },
        "id": "ezD4JvoElq4t",
        "outputId": "6e47c6a3-318f-4cc9-9532-324f98046614"
      },
      "outputs": [
        {
          "name": "stdout",
          "output_type": "stream",
          "text": [
            "[-23.06136312 -20.77268382 -18.58111992 -16.48667141 -14.4893383\n",
            " -12.58912059 -10.78601827  -9.08003135  -7.47115983  -5.95940371\n",
            "  -4.54476298  -3.22723765  -2.00682772  -0.88353319   0.14264595\n",
            "   1.07170969   1.90365803   2.63849098   3.27620853   3.81681068\n",
            "   4.26029743   4.60666879   4.85592475   5.00806531   5.06309048\n",
            "   5.02100025   4.88179462   4.64547359   4.31203717   3.88148535]\n"
          ]
        }
      ],
      "source": [
        "# Predict values using the polynomial model\n",
        "numpy_y_pred = model(X_raw)\n",
        "print(numpy_y_pred)"
      ]
    },
    {
      "cell_type": "code",
      "execution_count": null,
      "metadata": {
        "colab": {
          "base_uri": "https://localhost:8080/",
          "height": 472
        },
        "id": "BP09xryqlxdg",
        "outputId": "9d37a254-c309-4927-9374-05c791df19a7"
      },
      "outputs": [
        {
          "data": {
            "image/png": "[encoded data removed]",
            "text/plain": [
              "<Figure size 640x480 with 1 Axes>"
            ]
          },
          "metadata": {},
          "output_type": "display_data"
        }
      ],
      "source": [
        "# Plot the data and the polynomial regression curve\n",
        "plt.scatter(X_raw, y, color='blue', label='Noisy data')\n",
        "plt.plot(X_raw, numpy_y_pred, color='red', label='Fitted polynomial curve')\n",
        "plt.title('Polynomial Regression (Degree 2) Using np.poly1d')\n",
        "plt.xlabel('x')\n",
        "plt.ylabel('y')\n",
        "plt.legend()\n",
        "plt.grid(True)\n",
        "plt.show()"
      ]
    },
    {
      "cell_type": "markdown",
      "metadata": {
        "id": "RaNZtrXDm50V"
      },
      "source": [
        "3. Comparing Our Model with NumPy's Built-in Polynomial Model"
      ]
    },
    {
      "cell_type": "code",
      "execution_count": null,
      "metadata": {
        "colab": {
          "base_uri": "https://localhost:8080/",
          "height": 472
        },
        "id": "BFULrUjdnLjU",
        "outputId": "2638d7e9-55fd-4c96-bd23-0eed748d673e"
      },
      "outputs": [
        {
          "data": {
            "image/png": "[encoded data removed]",
            "text/plain": [
              "<Figure size 640x480 with 1 Axes>"
            ]
          },
          "metadata": {},
          "output_type": "display_data"
        }
      ],
      "source": [
        "# Plot the data and the polynomial regression curve\n",
        "plt.scatter(X_raw, y, color='blue', label='Noisy data')\n",
        "plt.plot(X_raw, y_pred, color='red', label='Our Model')\n",
        "plt.plot(X_raw, numpy_y_pred, color='green', label=\"NumPy's Model\")\n",
        "plt.title(\"Polynomial Regression (Degree 2) Using Our Model and NumPy's Built-in Polynomial Model\")\n",
        "plt.xlabel('x')\n",
        "plt.ylabel('y')\n",
        "plt.legend()\n",
        "plt.grid(True)\n",
        "plt.show()"
      ]
    },
    {
      "cell_type": "markdown",
      "metadata": {
        "id": "LVAcKM3Zn9bF"
      },
      "source": [
        "It was observed that the two lines coincided exactly, indicating that our implementation matches the NumPy model precisely.\n"
      ]
    },
    {
      "cell_type": "markdown",
      "source": [
        "## Confusion Matrix"
      ],
      "metadata": {
        "id": "hbcsXscAHYzX"
      }
    },
    {
      "cell_type": "markdown",
      "source": [
        "### Introduction Confusion Matrix"
      ],
      "metadata": {
        "id": "gLGCaUd7H5TA"
      }
    },
    {
      "cell_type": "markdown",
      "source": [
        "#### Confusion Matrix: A Comprehensive Explanation\n",
        "\n",
        "The **Confusion Matrix** is a fundamental tool used to evaluate the performance of classification models, especially in binary classification. It provides a tabular summary of how the predicted classifications compare with the actual labels.\n",
        "\n",
        "---\n",
        "\n",
        "#### Structure of the Confusion Matrix\n",
        "\n",
        "For binary classification, the confusion matrix is a 2x2 table:\n",
        "\n",
        "|                        | **Predicted Positive** | **Predicted Negative** |\n",
        "|------------------------|------------------------|------------------------|\n",
        "| **Actual Positive**     | True Positive (TP)     | False Negative (FN)    |\n",
        "| **Actual Negative**     | False Positive (FP)    | True Negative (TN)     |\n",
        "\n",
        "---\n",
        "\n",
        "#### Explanation of Each Component\n",
        "\n",
        "- **True Positive (TP):**  \n",
        "  The number of instances where the model correctly predicted the positive class.  \n",
        "  *(Model predicted Positive and the actual label is Positive)*\n",
        "\n",
        "- **True Negative (TN):**  \n",
        "  The number of instances where the model correctly predicted the negative class.  \n",
        "  *(Model predicted Negative and the actual label is Negative)*\n",
        "\n",
        "- **False Positive (FP):**  \n",
        "  The number of instances where the model incorrectly predicted the positive class.  \n",
        "  *(Model predicted Positive but the actual label is Negative)*  \n",
        "  Also known as a **Type I error**.\n",
        "\n",
        "- **False Negative (FN):**  \n",
        "  The number of instances where the model incorrectly predicted the negative class.  \n",
        "  *(Model predicted Negative but the actual label is Positive)*  \n",
        "  Also known as a **Type II error**.\n",
        "\n",
        "---\n",
        "\n",
        "#### Importance\n",
        "\n",
        "The confusion matrix helps in understanding not only the accuracy of the model but also the types of errors it makes. This insight is critical for tasks where false positives and false negatives carry different consequences.\n",
        "\n",
        "---"
      ],
      "metadata": {
        "id": "u_2dkAzvHntZ"
      }
    },
    {
      "cell_type": "markdown",
      "source": [
        "### Example Code"
      ],
      "metadata": {
        "id": "8GxtnmUoH-wl"
      }
    },
    {
      "cell_type": "code",
      "source": [
        "import numpy as np\n",
        "import matplotlib.pyplot as plt\n",
        "from sklearn.metrics import confusion_matrix, ConfusionMatrixDisplay"
      ],
      "metadata": {
        "id": "HLtBW00VIH3z"
      },
      "execution_count": null,
      "outputs": []
    },
    {
      "cell_type": "code",
      "source": [
        "# Define actual labels\n",
        "actual = np.array([1, 0, 1, 1, 0, 0, 1, 0, 1, 0])\n",
        "\n",
        "# Define predicted labels with some correct and incorrect predictions\n",
        "predicted = np.array([1, 0, 0, 1, 0, 1, 1, 0, 1, 0])\n",
        "\n",
        "print(actual)\n",
        "print(\"----------------------------------\")\n",
        "print(predicted)"
      ],
      "metadata": {
        "colab": {
          "base_uri": "https://localhost:8080/"
        },
        "id": "geViOpwjINwK",
        "outputId": "79c4b61b-f1c3-4f48-b803-c1093574a894"
      },
      "execution_count": null,
      "outputs": [
        {
          "output_type": "stream",
          "name": "stdout",
          "text": [
            "[1 0 1 1 0 0 1 0 1 0]\n",
            "----------------------------------\n",
            "[1 0 0 1 0 1 1 0 1 0]\n"
          ]
        }
      ]
    },
    {
      "cell_type": "code",
      "source": [
        "# Compute confusion matrix\n",
        "cm = confusion_matrix(actual, predicted)\n",
        "\n",
        "# Print the confusion matrix with labels\n",
        "print(\"Confusion Matrix:\")\n",
        "print(cm)"
      ],
      "metadata": {
        "colab": {
          "base_uri": "https://localhost:8080/"
        },
        "id": "FF0W46kvIQTr",
        "outputId": "95e4aa16-56bd-4dbc-ddbb-dc8cacde7e50"
      },
      "execution_count": null,
      "outputs": [
        {
          "output_type": "stream",
          "name": "stdout",
          "text": [
            "Confusion Matrix:\n",
            "[[4 1]\n",
            " [1 4]]\n"
          ]
        }
      ]
    },
    {
      "cell_type": "code",
      "source": [
        "# Visualize the confusion matrix using matplotlib\n",
        "disp = ConfusionMatrixDisplay(confusion_matrix=cm, display_labels=[\"Negative\", \"Positive\"])\n",
        "disp.plot(cmap=plt.cm.Blues)\n",
        "plt.title(\"Confusion Matrix Visualization\")\n",
        "plt.show()"
      ],
      "metadata": {
        "colab": {
          "base_uri": "https://localhost:8080/",
          "height": 472
        },
        "id": "3q99WcQXISMG",
        "outputId": "f94e63ff-4940-49cf-95de-8fe38876a575"
      },
      "execution_count": null,
      "outputs": [
        {
          "output_type": "display_data",
          "data": {
            "text/plain": [
              "<Figure size 640x480 with 2 Axes>"
            ],
            "image/png": "[encoded data removed]"
          },
          "metadata": {}
        }
      ]
    },
    {
      "cell_type": "markdown",
      "source": [
        "### Evaluation Metrics in Binary Classification: Definitions and Formulas"
      ],
      "metadata": {
        "id": "fJDFFcoNKBHN"
      }
    },
    {
      "cell_type": "markdown",
      "source": [
        "In binary classification tasks, several evaluation metrics are commonly used to assess the performance of a model. These metrics are calculated based on the values of the **confusion matrix** components:  \n",
        "- True Positive (TP)  \n",
        "- True Negative (TN)  \n",
        "- False Positive (FP)  \n",
        "- False Negative (FN)\n",
        "\n",
        "---\n",
        "\n",
        "#### 1. Accuracy\n",
        "\n",
        "**Definition:**  \n",
        "Accuracy measures the overall correctness of the model. It is the ratio of correctly predicted observations (both positive and negative) to the total observations.\n",
        "\n",
        "**Range:**  \n",
        "0 to 1 (or 0% to 100%) — higher values indicate better performance.\n",
        "\n",
        "**Formula:**  \n",
        "$$\n",
        "\\text{Accuracy} = \\frac{TP + TN}{TP + TN + FP + FN}\n",
        "$$\n",
        "\n",
        "**Interpretation:**  \n",
        "Accuracy shows the proportion of total predictions that were correct. However, it can be misleading in imbalanced datasets, where one class dominates.\n",
        "\n",
        "---\n",
        "\n",
        "#### 2. Precision\n",
        "\n",
        "**Definition:**  \n",
        "Precision (also called Positive Predictive Value) measures the proportion of positive identifications that were actually correct.\n",
        "\n",
        "**Range:**  \n",
        "0 to 1 — higher values indicate fewer false positives.\n",
        "\n",
        "**Formula:**  \n",
        "$$\n",
        "\\text{Precision} = \\frac{TP}{TP + FP}\n",
        "$$\n",
        "\n",
        "**Interpretation:**  \n",
        "Precision answers the question: *Of all instances predicted as positive, how many were truly positive?* High precision means the model makes very few false positive errors.\n",
        "\n",
        "---\n",
        "\n",
        "#### 3. Recall\n",
        "\n",
        "**Definition:**  \n",
        "Recall (also known as Sensitivity or True Positive Rate) measures the proportion of actual positives that were correctly identified.\n",
        "\n",
        "**Range:**  \n",
        "0 to 1 — higher values indicate fewer false negatives.\n",
        "\n",
        "**Formula:**  \n",
        "$$\n",
        "\\text{Recall} = \\frac{TP}{TP + FN}\n",
        "$$\n",
        "\n",
        "**Interpretation:**  \n",
        "Recall answers the question: *Of all actual positive instances, how many did the model correctly identify?* High recall means the model misses few positive cases.\n",
        "\n",
        "---\n",
        "\n",
        "#### 4. F1 Score\n",
        "\n",
        "**Definition:**  \n",
        "The F1 Score is the harmonic mean of Precision and Recall, providing a balance between the two metrics.\n",
        "\n",
        "**Range:**  \n",
        "0 to 1 — higher values indicate a better balance between precision and recall.\n",
        "\n",
        "**Formula:**  \n",
        "$$\n",
        "\\text{F1 Score} = 2 \\times \\frac{\\text{Precision} \\times \\text{Recall}}{\\text{Precision} + \\text{Recall}}\n",
        "$$\n",
        "\n",
        "**Interpretation:**  \n",
        "The F1 Score is useful when seeking a balance between precision and recall, especially when the class distribution is uneven. It punishes extreme values where either precision or recall is very low.\n",
        "\n",
        "---\n",
        "\n",
        "#### Summary Table\n",
        "\n",
        "| Metric    | Formula                         | Range  | Indicates                      |\n",
        "|-----------|--------------------------------|--------|-------------------------------|\n",
        "| Accuracy  | $\\frac{TP + TN}{TP + TN + FP + FN}$ | 0 to 1 | Overall correctness            |\n",
        "| Precision | $\\frac{TP}{TP + FP}$          | 0 to 1 | Correctness of positive predictions |\n",
        "| Recall    | $\\frac{TP}{TP + FN}$          | 0 to 1 | Completeness in finding positives |\n",
        "| F1 Score  | Harmonic mean of Precision & Recall | 0 to 1 | Balance between precision and recall |\n",
        "\n",
        "---\n",
        "\n",
        "Understanding these metrics and how they relate to the confusion matrix helps in selecting the right model and evaluating its performance according to the specific problem requirements.\n"
      ],
      "metadata": {
        "id": "K9dMFHeeI8Hc"
      }
    },
    {
      "cell_type": "markdown",
      "source": [
        "## ROC Curve"
      ],
      "metadata": {
        "id": "px28lJnjNdtL"
      }
    },
    {
      "cell_type": "markdown",
      "source": [
        "### Introduction ROC Curve"
      ],
      "metadata": {
        "id": "-5U_D-hNOyue"
      }
    },
    {
      "cell_type": "markdown",
      "source": [
        "The **Receiver Operating Characteristic (ROC) Curve** is a widely used tool to evaluate the performance of binary classification models by illustrating their ability to distinguish between the positive and negative classes at various classification thresholds.\n",
        "\n",
        "---\n",
        "\n",
        "#### Structure and Components of ROC Curve\n",
        "\n",
        "- **True Positive Rate (TPR)** or **Recall (Sensitivity):**  \n",
        "  Measures the proportion of actual positive cases correctly identified by the model.\n",
        "  $$\n",
        "  \\text{TPR} = \\frac{TP}{TP + FN}\n",
        "  $$\n",
        "\n",
        "- **False Positive Rate (FPR):**  \n",
        "  Measures the proportion of actual negative cases incorrectly classified as positive by the model.  \n",
        "  $$\n",
        "  \\text{FPR} = \\frac{FP}{FP + TN}\n",
        "  $$\n",
        "\n",
        "---\n",
        "\n",
        "#### How ROC Curve Works\n",
        "\n",
        "Unlike single-threshold metrics, ROC analyzes the trade-off between TPR and FPR across all possible classification thresholds. By varying the threshold, the model’s sensitivity and specificity change, resulting in a curve that shows how well the model distinguishes between classes.\n",
        "\n",
        "- The **x-axis** represents the False Positive Rate (FPR).\n",
        "- The **y-axis** represents the True Positive Rate (TPR).\n",
        "\n",
        "---\n",
        "\n",
        "#### Key Concepts\n",
        "\n",
        "- **Ideal Model:**  \n",
        "  An ideal classifier achieves TPR = 1 with FPR = 0, which corresponds to the top-left corner of the ROC space.\n",
        "\n",
        "- **Random Guessing:**  \n",
        "  A random classifier produces a diagonal line from (0,0) to (1,1), representing no discrimination ability.\n",
        "\n",
        "- **Area Under the Curve (AUC):**  \n",
        "  A numerical summary of the ROC curve, ranging from 0 to 1.  \n",
        "  - AUC = 1 indicates perfect classification.  \n",
        "  - AUC = 0.5 indicates random guessing.\n",
        "\n",
        "---\n",
        "\n",
        "#### Importance\n",
        "\n",
        "ROC curves and the AUC metric provide a threshold-independent evaluation of model performance, especially useful when dealing with imbalanced datasets or varying costs of false positives and false negatives.\n"
      ],
      "metadata": {
        "id": "h5xHbY_jOzGW"
      }
    },
    {
      "cell_type": "markdown",
      "source": [
        "### Example Code"
      ],
      "metadata": {
        "id": "orbdw3iFPLxJ"
      }
    },
    {
      "cell_type": "code",
      "source": [
        "import numpy as np\n",
        "import matplotlib.pyplot as plt\n",
        "from sklearn.metrics import roc_curve, roc_auc_score"
      ],
      "metadata": {
        "id": "jmlI_0LWLBQi"
      },
      "execution_count": null,
      "outputs": []
    },
    {
      "cell_type": "code",
      "source": [
        "# Actual binary labels\n",
        "actual = np.array([0, 0, 1, 1, 0, 1, 0, 1, 1, 0])\n",
        "\n",
        "# Predicted scores/probabilities for the positive class (between 0 and 1)\n",
        "predicted_scores = np.array([0.1, 0.4, 0.35, 0.8, 0.2, 0.75, 0.3, 0.9, 0.6, 0.15])"
      ],
      "metadata": {
        "id": "B3z2PCOcNlDa"
      },
      "execution_count": null,
      "outputs": []
    },
    {
      "cell_type": "code",
      "source": [
        "# Compute False Positive Rate, True Positive Rate, and thresholds\n",
        "fpr, tpr, thresholds = roc_curve(actual, predicted_scores)\n",
        "\n",
        "# used to generate the ROC curve. The thresholds are automatically determined in descending order,\n",
        "# allowing the model’s classification performance to be evaluated from the strictest (highest threshold)\n",
        "# to the most lenient (lowest threshold). At each threshold, FPR and TPR are calculated based on\n",
        "# how the predicted scores classify the actual labels, enabling a comprehensive view of the model’s\n",
        "# ability to distinguish between positive and negative classes across all decision boundaries.\n",
        "\n",
        "print(f\"FPR: {fpr}\")\n",
        "print(\"----------------------------------\")\n",
        "print(f\"TPR: {tpr}\")\n",
        "print(\"----------------------------------\")\n",
        "print(f\"Thresholds: {thresholds}\")"
      ],
      "metadata": {
        "colab": {
          "base_uri": "https://localhost:8080/"
        },
        "id": "-vWsBy6rNlO3",
        "outputId": "38933a59-aaf7-4c21-ad8d-bb79ddb01ca7"
      },
      "execution_count": null,
      "outputs": [
        {
          "output_type": "stream",
          "name": "stdout",
          "text": [
            "FPR: [0.  0.  0.  0.2 0.2 1. ]\n",
            "----------------------------------\n",
            "TPR: [0.  0.2 0.8 0.8 1.  1. ]\n",
            "----------------------------------\n",
            "Thresholds: [ inf 0.9  0.6  0.4  0.35 0.1 ]\n"
          ]
        }
      ]
    },
    {
      "cell_type": "code",
      "source": [
        "# Compute Area Under Curve (AUC)\n",
        "auc = roc_auc_score(actual, predicted_scores)\n",
        "\n",
        "# Print AUC\n",
        "print(f\"Area Under the Curve (AUC): {auc:.4f}\")"
      ],
      "metadata": {
        "colab": {
          "base_uri": "https://localhost:8080/"
        },
        "id": "SoF77hxPNlSN",
        "outputId": "773560a2-c646-4f58-f23f-cd4023ce2a36"
      },
      "execution_count": null,
      "outputs": [
        {
          "output_type": "stream",
          "name": "stdout",
          "text": [
            "Area Under the Curve (AUC): 0.9600\n"
          ]
        }
      ]
    },
    {
      "cell_type": "code",
      "source": [
        "# Plot ROC Curve\n",
        "plt.figure(figsize=(8,6))\n",
        "plt.plot(fpr, tpr, color='blue', lw=2, label=f'ROC curve (AUC = {auc:.4f})')\n",
        "plt.plot([0, 1], [0, 1], color='gray', lw=1, linestyle='--', label='Random Guessing')\n",
        "plt.xlabel('False Positive Rate (FPR)')\n",
        "plt.ylabel('True Positive Rate (TPR)')\n",
        "plt.title('Receiver Operating Characteristic (ROC) Curve')\n",
        "plt.legend(loc='lower right')\n",
        "plt.grid(True)\n",
        "plt.show()"
      ],
      "metadata": {
        "colab": {
          "base_uri": "https://localhost:8080/",
          "height": 564
        },
        "id": "Mc9IRQ8FNlVV",
        "outputId": "26e05e45-13ba-4f75-ad50-2056b5c6c9bd"
      },
      "execution_count": null,
      "outputs": [
        {
          "output_type": "display_data",
          "data": {
            "text/plain": [
              "<Figure size 800x600 with 1 Axes>"
            ],
            "image/png": "[encoded data removed]"
          },
          "metadata": {}
        }
      ]
    },
    {
      "cell_type": "markdown",
      "metadata": {
        "id": "Ankhqx-po-LY"
      },
      "source": [
        "## Support Vector Machine (SVM)"
      ]
    },
    {
      "cell_type": "markdown",
      "metadata": {
        "id": "wPq5fqmUpLDk"
      },
      "source": [
        "### Introduction SVM"
      ]
    },
    {
      "cell_type": "markdown",
      "metadata": {
        "id": "R6vBYqrYqugY"
      },
      "source": [
        ">Support Vector Machines (SVM) are a powerful class of supervised learning algorithms used primarily for classification and regression tasks. Developed in the 1990s, SVMs aim to find the optimal hyperplane that separates data points of different classes with the maximum margin. This margin maximization principle helps SVM achieve strong generalization performance, making it widely popular in fields such as bioinformatics, text classification, image recognition, and more.\n",
        "\n",
        "---\n",
        "\n",
        "#### **Applications**\n",
        "\n",
        "SVMs have been successfully applied in numerous domains including:\n",
        "\n",
        "- **Text and Document Classification:** Spam detection, sentiment analysis, topic categorization.\n",
        "- **Image Recognition:** Face detection, handwriting recognition, object classification.\n",
        "- **Bioinformatics:** Protein classification, gene expression data analysis.\n",
        "- **Finance:** Credit scoring, stock market trend prediction.\n",
        "- **General Pattern Recognition:** Any problem involving separating data into categories with clear or complex boundaries.\n",
        "\n",
        "---\n",
        "\n",
        "#### **Advantages**\n",
        "\n",
        "- **Effective in high-dimensional spaces:** Works well when the number of features exceeds the number of samples.\n",
        "- **Robust to overfitting:** Especially with the use of kernels and margin maximization.\n",
        "- **Versatile kernel functions:** Linear, polynomial, radial basis function (RBF), and more, enabling nonlinear classification.\n",
        "- **Works well with clear margin of separation:** Provides a unique, optimal solution.\n",
        "\n",
        "#### **Disadvantages**\n",
        "\n",
        "- **Computational complexity:** Training can be slow with very large datasets.\n",
        "- **Choice of kernel and parameters:** Requires careful tuning of kernel functions, regularization parameter \\( C \\), and kernel-specific parameters.\n",
        "- **Less effective on noisy or overlapping classes:** Performance decreases when classes are not well separated.\n",
        "- **Output interpretability:** The resulting model can be hard to interpret compared to simpler linear models.\n",
        "\n",
        "---\n",
        "\n",
        "#### How SVM Works: Logical and Mathematical Foundations\n",
        "\n",
        "At its core, SVM finds a hyperplane defined by:\n",
        "\n",
        "$$\n",
        "\\mathbf{w} \\cdot \\mathbf{x} + b = 0\n",
        "$$\n",
        "\n",
        "where \\( $\\mathbf{w}$ \\) is the normal vector to the hyperplane, \\( $b$ \\) is the bias (offset), and \\( $\\mathbf{x}$ \\) is a feature vector.\n",
        "\n",
        "#### Objective\n",
        "\n",
        "Find \\( $\\mathbf{w}$ \\) and \\( $b$ \\) such that the margin between the closest points of the two classes (called support vectors) is maximized. The margin is given by:\n",
        "\n",
        "$$\n",
        "\\text{Margin} = \\frac{2}{\\|\\mathbf{w}\\|}\n",
        "$$\n",
        "\n",
        "#### Constraints\n",
        "\n",
        "For a labeled training set \\( $\\{ (\\mathbf{x}_i, y_i) \\}$ \\) where \\( $y_i \\in \\{+1, -1\\}$ \\), SVM enforces:\n",
        "\n",
        "$$\n",
        "y_i (\\mathbf{w} \\cdot \\mathbf{x}_i + b) \\geq 1, \\quad \\forall i\n",
        "$$\n",
        "\n",
        "#### Optimization Problem\n",
        "\n",
        "SVM solves the following convex optimization problem:\n",
        "\n",
        "$$\n",
        "\\min_{\\mathbf{w}, b} \\frac{1}{2} \\|\\mathbf{w}\\|^2\n",
        "$$\n",
        "subject to\n",
        "$$\n",
        "y_i (\\mathbf{w} \\cdot \\mathbf{x}_i + b) \\geq 1, \\quad \\forall i\n",
        "$$\n",
        "\n",
        "This can be extended to **soft-margin SVM** to handle non-separable data by introducing slack variables \\( $\\xi_i \\geq 0$ \\):\n",
        "\n",
        "$$\n",
        "\\min_{\\mathbf{w}, b, \\xi} \\frac{1}{2} \\|\\mathbf{w}\\|^2 + C \\sum_i \\xi_i\n",
        "$$\n",
        "subject to\n",
        "$$\n",
        "y_i (\\mathbf{w} \\cdot \\mathbf{x}_i + b) \\geq 1 - \\xi_i, \\quad \\forall i\n",
        "$$\n",
        "where \\($ C > 0 $\\) balances margin maximization and classification error.\n",
        "\n",
        "#### Kernel Trick\n",
        "\n",
        "To handle nonlinear boundaries, SVM uses kernel functions \\( $K(\\mathbf{x}_i, \\mathbf{x}_j) = \\phi(\\mathbf{x}_i) \\cdot \\phi(\\mathbf{x}_j)$ \\), implicitly mapping inputs into higher-dimensional spaces where they are linearly separable.\n",
        "\n",
        "Common kernels include:\n",
        "\n",
        "- Linear: \\( $K(\\mathbf{x}, \\mathbf{z}) = \\mathbf{x}^\\top \\mathbf{z} $\\)\n",
        "- Polynomial: \\( $K(\\mathbf{x}, \\mathbf{z}) = (\\gamma \\mathbf{x}^\\top \\mathbf{z} + r)^d$ \\)\n",
        "- Radial Basis Function (RBF): \\( $K(\\mathbf{x}, \\mathbf{z}) = \\exp(-\\gamma \\|\\mathbf{x} - \\mathbf{z}\\|^2)$ \\)"
      ]
    },
    {
      "cell_type": "markdown",
      "source": [
        "### Example Code"
      ],
      "metadata": {
        "id": "LpqsFS2G_oD3"
      }
    },
    {
      "cell_type": "code",
      "source": [
        "import numpy as np\n",
        "import pandas as pd\n",
        "import matplotlib.pyplot as plt\n",
        "from sklearn.svm import SVC\n",
        "from sklearn.preprocessing import StandardScaler\n",
        "from sklearn.model_selection import train_test_split\n",
        "from sklearn.metrics import accuracy_score, precision_score, recall_score, f1_score, classification_report"
      ],
      "metadata": {
        "id": "HdV468cf_q2Y"
      },
      "execution_count": null,
      "outputs": []
    },
    {
      "cell_type": "code",
      "source": [
        "# Generate synthetic 2D data for two classes\n",
        "np.random.seed(42)"
      ],
      "metadata": {
        "id": "hY0vkfaZA44g"
      },
      "execution_count": null,
      "outputs": []
    },
    {
      "cell_type": "code",
      "source": [
        "# Class 0: centered around (2, 2)\n",
        "X0 = np.random.multivariate_normal([2, 2], [[0.8, 0.3], [0.3, 0.8]], 50)\n",
        "y0 = np.zeros(50)\n",
        "\n",
        "print(X0)\n",
        "print(\"----------------------------------\")\n",
        "print(y0)"
      ],
      "metadata": {
        "colab": {
          "base_uri": "https://localhost:8080/"
        },
        "id": "pG16FyevA_16",
        "outputId": "50c44834-a69d-4462-dead-3e7dd86c2d03"
      },
      "execution_count": null,
      "outputs": [
        {
          "output_type": "stream",
          "name": "stdout",
          "text": [
            "[[1.70075908 1.56249477]\n",
            " [0.7581464  2.28117625]\n",
            " [2.29072127 2.05658431]\n",
            " [0.44510707 1.2125418 ]\n",
            " [2.0768915  2.61945154]\n",
            " [2.57654464 2.11081488]\n",
            " [2.7771961  0.86391585]\n",
            " [3.56037707 2.99808954]\n",
            " [2.594012   2.90825933]\n",
            " [3.37956053 1.96725683]\n",
            " [1.02593393 0.80015763]\n",
            " [2.66229384 1.23754565]\n",
            " [2.34826374 2.45918633]\n",
            " [2.66575067 3.04144869]\n",
            " [2.59129245 2.2995987 ]\n",
            " [1.52009847 3.37237666]\n",
            " [2.53886527 1.48115435]\n",
            " [2.00040619 0.77956254]\n",
            " [2.82493767 0.86526755]\n",
            " [2.88657852 3.08343975]\n",
            " [1.36665439 1.53802267]\n",
            " [2.23631891 1.93521521]\n",
            " [3.45642336 2.73657915]\n",
            " [1.81305774 2.87017997]\n",
            " [2.62668593 0.86364578]\n",
            " [1.95219404 1.56711176]\n",
            " [2.19618065 2.80785694]\n",
            " [0.76975023 1.70103035]\n",
            " [2.77698656 2.46777418]\n",
            " [1.2665559  2.24210103]\n",
            " [2.44819461 2.26253564]\n",
            " [3.41858329 2.22237666]\n",
            " [0.71929471 2.07553474]\n",
            " [1.55163769 2.55517058]\n",
            " [2.05436342 1.40924367]\n",
            " [0.96296356 2.50100013]\n",
            " [1.24424747 2.80889113]\n",
            " [3.53190372 4.35380622]\n",
            " [2.08494784 1.78594049]\n",
            " [2.92573284 0.93816393]\n",
            " [1.98435675 2.34146932]\n",
            " [1.16309955 0.64482933]\n",
            " [2.85047343 2.34871638]\n",
            " [1.15674407 1.48549517]\n",
            " [2.13624697 2.6495144 ]\n",
            " [1.44368287 2.41232786]\n",
            " [2.68448758 2.35682544]\n",
            " [3.02255266 1.55903772]\n",
            " [1.64986369 1.91091896]\n",
            " [2.11350133 1.87891419]]\n",
            "----------------------------------\n",
            "[0. 0. 0. 0. 0. 0. 0. 0. 0. 0. 0. 0. 0. 0. 0. 0. 0. 0. 0. 0. 0. 0. 0. 0.\n",
            " 0. 0. 0. 0. 0. 0. 0. 0. 0. 0. 0. 0. 0. 0. 0. 0. 0. 0. 0. 0. 0. 0. 0. 0.\n",
            " 0. 0.]\n"
          ]
        }
      ]
    },
    {
      "cell_type": "code",
      "source": [
        "# Class 1: centered around (6, 6)\n",
        "X1 = np.random.multivariate_normal([6, 6], [[0.8, -0.3], [-0.3, 0.8]], 50)\n",
        "y1 = np.ones(50)\n",
        "\n",
        "print(X1)\n",
        "print(\"----------------------------------\")\n",
        "print(y1)"
      ],
      "metadata": {
        "colab": {
          "base_uri": "https://localhost:8080/"
        },
        "id": "boZsmuzWBQk-",
        "outputId": "f28ba209-8fc4-47eb-d7eb-be06d77a9459"
      },
      "execution_count": null,
      "outputs": [
        {
          "output_type": "stream",
          "name": "stdout",
          "text": [
            "[[6.83934437 4.7400103 ]\n",
            " [5.85302525 5.34469748]\n",
            " [6.32163811 6.08241274]\n",
            " [4.688456   7.48612181]\n",
            " [5.77177256 6.15378152]\n",
            " [7.40974188 4.56374424]\n",
            " [7.18695314 7.27628898]\n",
            " [6.29343238 6.00811496]\n",
            " [5.44140392 5.38991804]\n",
            " [5.52842643 7.2235066 ]\n",
            " [4.95866128 6.13195127]\n",
            " [4.25873436 6.33941457]\n",
            " [6.66000294 7.53045268]\n",
            " [6.45145253 4.98224974]\n",
            " [5.67435874 5.8221656 ]\n",
            " [7.18428427 4.88427871]\n",
            " [7.02462173 5.4489707 ]\n",
            " [7.45683046 6.09310394]\n",
            " [6.41984543 5.25809305]\n",
            " [4.78124733 5.98788836]\n",
            " [6.48488257 6.82226018]\n",
            " [7.2844584  4.90017546]\n",
            " [6.1981772  6.58364567]\n",
            " [6.25711889 4.42242449]\n",
            " [5.76141011 6.53557456]\n",
            " [5.98745363 6.35899457]\n",
            " [6.62044668 5.61180702]\n",
            " [5.42547593 5.86017265]\n",
            " [4.85322105 7.62061187]\n",
            " [7.21177112 5.44478248]\n",
            " [7.11638557 5.67069903]\n",
            " [4.73042136 6.44889632]\n",
            " [5.4919316  6.92084932]\n",
            " [6.33874036 7.55805262]\n",
            " [5.80511662 5.44114722]\n",
            " [6.25177641 4.9324133 ]\n",
            " [6.22775615 6.11339583]\n",
            " [6.20839224 6.61879101]\n",
            " [6.71712458 6.7364095 ]\n",
            " [7.55635934 7.16380982]\n",
            " [5.1074139  6.03542855]\n",
            " [7.03543134 5.44704108]\n",
            " [6.52272468 6.19127581]\n",
            " [5.61262313 6.31454796]\n",
            " [5.87057542 4.61457736]\n",
            " [6.75934375 6.09705505]\n",
            " [5.21835444 5.53590678]\n",
            " [6.06422428 6.3210931 ]\n",
            " [6.73234877 5.42137633]\n",
            " [5.38534611 5.47168359]]\n",
            "----------------------------------\n",
            "[1. 1. 1. 1. 1. 1. 1. 1. 1. 1. 1. 1. 1. 1. 1. 1. 1. 1. 1. 1. 1. 1. 1. 1.\n",
            " 1. 1. 1. 1. 1. 1. 1. 1. 1. 1. 1. 1. 1. 1. 1. 1. 1. 1. 1. 1. 1. 1. 1. 1.\n",
            " 1. 1.]\n"
          ]
        }
      ]
    },
    {
      "cell_type": "code",
      "source": [
        "# Combine into one dataset\n",
        "X = np.vstack((X0, X1))\n",
        "y = np.hstack((y0, y1))\n",
        "\n",
        "print(X)\n",
        "print(\"----------------------------------\")\n",
        "print(y)"
      ],
      "metadata": {
        "colab": {
          "base_uri": "https://localhost:8080/"
        },
        "id": "PytxEljcBYHc",
        "outputId": "e4b673e0-8734-40d4-86f8-fe8236fef6fb"
      },
      "execution_count": null,
      "outputs": [
        {
          "output_type": "stream",
          "name": "stdout",
          "text": [
            "[[1.70075908 1.56249477]\n",
            " [0.7581464  2.28117625]\n",
            " [2.29072127 2.05658431]\n",
            " [0.44510707 1.2125418 ]\n",
            " [2.0768915  2.61945154]\n",
            " [2.57654464 2.11081488]\n",
            " [2.7771961  0.86391585]\n",
            " [3.56037707 2.99808954]\n",
            " [2.594012   2.90825933]\n",
            " [3.37956053 1.96725683]\n",
            " [1.02593393 0.80015763]\n",
            " [2.66229384 1.23754565]\n",
            " [2.34826374 2.45918633]\n",
            " [2.66575067 3.04144869]\n",
            " [2.59129245 2.2995987 ]\n",
            " [1.52009847 3.37237666]\n",
            " [2.53886527 1.48115435]\n",
            " [2.00040619 0.77956254]\n",
            " [2.82493767 0.86526755]\n",
            " [2.88657852 3.08343975]\n",
            " [1.36665439 1.53802267]\n",
            " [2.23631891 1.93521521]\n",
            " [3.45642336 2.73657915]\n",
            " [1.81305774 2.87017997]\n",
            " [2.62668593 0.86364578]\n",
            " [1.95219404 1.56711176]\n",
            " [2.19618065 2.80785694]\n",
            " [0.76975023 1.70103035]\n",
            " [2.77698656 2.46777418]\n",
            " [1.2665559  2.24210103]\n",
            " [2.44819461 2.26253564]\n",
            " [3.41858329 2.22237666]\n",
            " [0.71929471 2.07553474]\n",
            " [1.55163769 2.55517058]\n",
            " [2.05436342 1.40924367]\n",
            " [0.96296356 2.50100013]\n",
            " [1.24424747 2.80889113]\n",
            " [3.53190372 4.35380622]\n",
            " [2.08494784 1.78594049]\n",
            " [2.92573284 0.93816393]\n",
            " [1.98435675 2.34146932]\n",
            " [1.16309955 0.64482933]\n",
            " [2.85047343 2.34871638]\n",
            " [1.15674407 1.48549517]\n",
            " [2.13624697 2.6495144 ]\n",
            " [1.44368287 2.41232786]\n",
            " [2.68448758 2.35682544]\n",
            " [3.02255266 1.55903772]\n",
            " [1.64986369 1.91091896]\n",
            " [2.11350133 1.87891419]\n",
            " [6.83934437 4.7400103 ]\n",
            " [5.85302525 5.34469748]\n",
            " [6.32163811 6.08241274]\n",
            " [4.688456   7.48612181]\n",
            " [5.77177256 6.15378152]\n",
            " [7.40974188 4.56374424]\n",
            " [7.18695314 7.27628898]\n",
            " [6.29343238 6.00811496]\n",
            " [5.44140392 5.38991804]\n",
            " [5.52842643 7.2235066 ]\n",
            " [4.95866128 6.13195127]\n",
            " [4.25873436 6.33941457]\n",
            " [6.66000294 7.53045268]\n",
            " [6.45145253 4.98224974]\n",
            " [5.67435874 5.8221656 ]\n",
            " [7.18428427 4.88427871]\n",
            " [7.02462173 5.4489707 ]\n",
            " [7.45683046 6.09310394]\n",
            " [6.41984543 5.25809305]\n",
            " [4.78124733 5.98788836]\n",
            " [6.48488257 6.82226018]\n",
            " [7.2844584  4.90017546]\n",
            " [6.1981772  6.58364567]\n",
            " [6.25711889 4.42242449]\n",
            " [5.76141011 6.53557456]\n",
            " [5.98745363 6.35899457]\n",
            " [6.62044668 5.61180702]\n",
            " [5.42547593 5.86017265]\n",
            " [4.85322105 7.62061187]\n",
            " [7.21177112 5.44478248]\n",
            " [7.11638557 5.67069903]\n",
            " [4.73042136 6.44889632]\n",
            " [5.4919316  6.92084932]\n",
            " [6.33874036 7.55805262]\n",
            " [5.80511662 5.44114722]\n",
            " [6.25177641 4.9324133 ]\n",
            " [6.22775615 6.11339583]\n",
            " [6.20839224 6.61879101]\n",
            " [6.71712458 6.7364095 ]\n",
            " [7.55635934 7.16380982]\n",
            " [5.1074139  6.03542855]\n",
            " [7.03543134 5.44704108]\n",
            " [6.52272468 6.19127581]\n",
            " [5.61262313 6.31454796]\n",
            " [5.87057542 4.61457736]\n",
            " [6.75934375 6.09705505]\n",
            " [5.21835444 5.53590678]\n",
            " [6.06422428 6.3210931 ]\n",
            " [6.73234877 5.42137633]\n",
            " [5.38534611 5.47168359]]\n",
            "----------------------------------\n",
            "[0. 0. 0. 0. 0. 0. 0. 0. 0. 0. 0. 0. 0. 0. 0. 0. 0. 0. 0. 0. 0. 0. 0. 0.\n",
            " 0. 0. 0. 0. 0. 0. 0. 0. 0. 0. 0. 0. 0. 0. 0. 0. 0. 0. 0. 0. 0. 0. 0. 0.\n",
            " 0. 0. 1. 1. 1. 1. 1. 1. 1. 1. 1. 1. 1. 1. 1. 1. 1. 1. 1. 1. 1. 1. 1. 1.\n",
            " 1. 1. 1. 1. 1. 1. 1. 1. 1. 1. 1. 1. 1. 1. 1. 1. 1. 1. 1. 1. 1. 1. 1. 1.\n",
            " 1. 1. 1. 1.]\n"
          ]
        }
      ]
    },
    {
      "cell_type": "code",
      "source": [
        "# Convert to DataFrame (optional, for clarity)\n",
        "df = pd.DataFrame(X, columns=['Feature1', 'Feature2'])\n",
        "df['Label'] = y.astype(int)\n",
        "\n",
        "# Split into train/test sets\n",
        "X_train, X_test, y_train, y_test = train_test_split(\n",
        "    df[['Feature1', 'Feature2']], df['Label'], test_size=0.2, random_state=42\n",
        ")"
      ],
      "metadata": {
        "id": "t-UeujqrBgUp"
      },
      "execution_count": null,
      "outputs": []
    },
    {
      "cell_type": "code",
      "source": [
        "# Visualize the data before training\n",
        "plt.figure(figsize=(8, 6))\n",
        "plt.scatter(X_train[y_train == 0]['Feature1'], X_train[y_train == 0]['Feature2'], color='red', label='Class 0')\n",
        "plt.scatter(X_train[y_train == 1]['Feature1'], X_train[y_train == 1]['Feature2'], color='blue', label='Class 1')\n",
        "plt.title(\"Synthetic Data - Before SVM Training\")\n",
        "plt.xlabel(\"Feature 1\")\n",
        "plt.ylabel(\"Feature 2\")\n",
        "plt.legend()\n",
        "plt.grid(True)\n",
        "plt.show()"
      ],
      "metadata": {
        "colab": {
          "base_uri": "https://localhost:8080/",
          "height": 564
        },
        "id": "f_IROxeaB3Ng",
        "outputId": "32508d09-4c1b-4c55-dd0f-7c154c7fa598"
      },
      "execution_count": null,
      "outputs": [
        {
          "output_type": "display_data",
          "data": {
            "text/plain": [
              "<Figure size 800x600 with 1 Axes>"
            ],
            "image/png": "[encoded data removed]"
          },
          "metadata": {}
        }
      ]
    },
    {
      "cell_type": "code",
      "source": [
        "# Standardize features\n",
        "scaler = StandardScaler()\n",
        "X_train_scaled = scaler.fit_transform(X_train)\n",
        "X_test_scaled = scaler.transform(X_test)"
      ],
      "metadata": {
        "id": "0WNmJBKZCO7P"
      },
      "execution_count": null,
      "outputs": []
    },
    {
      "cell_type": "code",
      "source": [
        "# Train SVM with linear kernel\n",
        "svm = SVC(kernel='linear', C=1.0)\n",
        "svm.fit(X_train_scaled, y_train)\n",
        "\n",
        "# The regularization parameter C controls the trade-off between achieving a low training error\n",
        "# and maintaining a simple decision boundary (i.e., avoiding overfitting).\n",
        "# A smaller C encourages a wider margin with potential misclassifications,\n",
        "# while a larger C aims to classify all training examples correctly at the risk of overfitting.\n",
        "# In short, this parameter determines how sensitive the model is to errors during training."
      ],
      "metadata": {
        "colab": {
          "base_uri": "https://localhost:8080/",
          "height": 80
        },
        "id": "RM5aR_YJCS_B",
        "outputId": "4ce5b4ba-df73-4ba3-d519-8764e6c2090f"
      },
      "execution_count": null,
      "outputs": [
        {
          "output_type": "execute_result",
          "data": {
            "text/plain": [
              "SVC(kernel='linear')"
            ],
            "text/html": [
              "<style>#sk-container-id-3 {\n",
              "  /* Definition of color scheme common for light and dark mode */\n",
              "  --sklearn-color-text: #000;\n",
              "  --sklearn-color-text-muted: #666;\n",
              "  --sklearn-color-line: gray;\n",
              "  /* Definition of color scheme for unfitted estimators */\n",
              "  --sklearn-color-unfitted-level-0: #fff5e6;\n",
              "  --sklearn-color-unfitted-level-1: #f6e4d2;\n",
              "  --sklearn-color-unfitted-level-2: #ffe0b3;\n",
              "  --sklearn-color-unfitted-level-3: chocolate;\n",
              "  /* Definition of color scheme for fitted estimators */\n",
              "  --sklearn-color-fitted-level-0: #f0f8ff;\n",
              "  --sklearn-color-fitted-level-1: #d4ebff;\n",
              "  --sklearn-color-fitted-level-2: #b3dbfd;\n",
              "  --sklearn-color-fitted-level-3: cornflowerblue;\n",
              "\n",
              "  /* Specific color for light theme */\n",
              "  --sklearn-color-text-on-default-background: var(--sg-text-color, var(--theme-code-foreground, var(--jp-content-font-color1, black)));\n",
              "  --sklearn-color-background: var(--sg-background-color, var(--theme-background, var(--jp-layout-color0, white)));\n",
              "  --sklearn-color-border-box: var(--sg-text-color, var(--theme-code-foreground, var(--jp-content-font-color1, black)));\n",
              "  --sklearn-color-icon: #696969;\n",
              "\n",
              "  @media (prefers-color-scheme: dark) {\n",
              "    /* Redefinition of color scheme for dark theme */\n",
              "    --sklearn-color-text-on-default-background: var(--sg-text-color, var(--theme-code-foreground, var(--jp-content-font-color1, white)));\n",
              "    --sklearn-color-background: var(--sg-background-color, var(--theme-background, var(--jp-layout-color0, #111)));\n",
              "    --sklearn-color-border-box: var(--sg-text-color, var(--theme-code-foreground, var(--jp-content-font-color1, white)));\n",
              "    --sklearn-color-icon: #878787;\n",
              "  }\n",
              "}\n",
              "\n",
              "#sk-container-id-3 {\n",
              "  color: var(--sklearn-color-text);\n",
              "}\n",
              "\n",
              "#sk-container-id-3 pre {\n",
              "  padding: 0;\n",
              "}\n",
              "\n",
              "#sk-container-id-3 input.sk-hidden--visually {\n",
              "  border: 0;\n",
              "  clip: rect(1px 1px 1px 1px);\n",
              "  clip: rect(1px, 1px, 1px, 1px);\n",
              "  height: 1px;\n",
              "  margin: -1px;\n",
              "  overflow: hidden;\n",
              "  padding: 0;\n",
              "  position: absolute;\n",
              "  width: 1px;\n",
              "}\n",
              "\n",
              "#sk-container-id-3 div.sk-dashed-wrapped {\n",
              "  border: 1px dashed var(--sklearn-color-line);\n",
              "  margin: 0 0.4em 0.5em 0.4em;\n",
              "  box-sizing: border-box;\n",
              "  padding-bottom: 0.4em;\n",
              "  background-color: var(--sklearn-color-background);\n",
              "}\n",
              "\n",
              "#sk-container-id-3 div.sk-container {\n",
              "  /* jupyter's `normalize.less` sets `[hidden] { display: none; }`\n",
              "     but bootstrap.min.css set `[hidden] { display: none !important; }`\n",
              "     so we also need the `!important` here to be able to override the\n",
              "     default hidden behavior on the sphinx rendered scikit-learn.org.\n",
              "     See: https://github.com/scikit-learn/scikit-learn/issues/21755 */\n",
              "  display: inline-block !important;\n",
              "  position: relative;\n",
              "}\n",
              "\n",
              "#sk-container-id-3 div.sk-text-repr-fallback {\n",
              "  display: none;\n",
              "}\n",
              "\n",
              "div.sk-parallel-item,\n",
              "div.sk-serial,\n",
              "div.sk-item {\n",
              "  /* draw centered vertical line to link estimators */\n",
              "  background-image: linear-gradient(var(--sklearn-color-text-on-default-background), var(--sklearn-color-text-on-default-background));\n",
              "  background-size: 2px 100%;\n",
              "  background-repeat: no-repeat;\n",
              "  background-position: center center;\n",
              "}\n",
              "\n",
              "/* Parallel-specific style estimator block */\n",
              "\n",
              "#sk-container-id-3 div.sk-parallel-item::after {\n",
              "  content: \"\";\n",
              "  width: 100%;\n",
              "  border-bottom: 2px solid var(--sklearn-color-text-on-default-background);\n",
              "  flex-grow: 1;\n",
              "}\n",
              "\n",
              "#sk-container-id-3 div.sk-parallel {\n",
              "  display: flex;\n",
              "  align-items: stretch;\n",
              "  justify-content: center;\n",
              "  background-color: var(--sklearn-color-background);\n",
              "  position: relative;\n",
              "}\n",
              "\n",
              "#sk-container-id-3 div.sk-parallel-item {\n",
              "  display: flex;\n",
              "  flex-direction: column;\n",
              "}\n",
              "\n",
              "#sk-container-id-3 div.sk-parallel-item:first-child::after {\n",
              "  align-self: flex-end;\n",
              "  width: 50%;\n",
              "}\n",
              "\n",
              "#sk-container-id-3 div.sk-parallel-item:last-child::after {\n",
              "  align-self: flex-start;\n",
              "  width: 50%;\n",
              "}\n",
              "\n",
              "#sk-container-id-3 div.sk-parallel-item:only-child::after {\n",
              "  width: 0;\n",
              "}\n",
              "\n",
              "/* Serial-specific style estimator block */\n",
              "\n",
              "#sk-container-id-3 div.sk-serial {\n",
              "  display: flex;\n",
              "  flex-direction: column;\n",
              "  align-items: center;\n",
              "  background-color: var(--sklearn-color-background);\n",
              "  padding-right: 1em;\n",
              "  padding-left: 1em;\n",
              "}\n",
              "\n",
              "\n",
              "/* Toggleable style: style used for estimator/Pipeline/ColumnTransformer box that is\n",
              "clickable and can be expanded/collapsed.\n",
              "- Pipeline and ColumnTransformer use this feature and define the default style\n",
              "- Estimators will overwrite some part of the style using the `sk-estimator` class\n",
              "*/\n",
              "\n",
              "/* Pipeline and ColumnTransformer style (default) */\n",
              "\n",
              "#sk-container-id-3 div.sk-toggleable {\n",
              "  /* Default theme specific background. It is overwritten whether we have a\n",
              "  specific estimator or a Pipeline/ColumnTransformer */\n",
              "  background-color: var(--sklearn-color-background);\n",
              "}\n",
              "\n",
              "/* Toggleable label */\n",
              "#sk-container-id-3 label.sk-toggleable__label {\n",
              "  cursor: pointer;\n",
              "  display: flex;\n",
              "  width: 100%;\n",
              "  margin-bottom: 0;\n",
              "  padding: 0.5em;\n",
              "  box-sizing: border-box;\n",
              "  text-align: center;\n",
              "  align-items: start;\n",
              "  justify-content: space-between;\n",
              "  gap: 0.5em;\n",
              "}\n",
              "\n",
              "#sk-container-id-3 label.sk-toggleable__label .caption {\n",
              "  font-size: 0.6rem;\n",
              "  font-weight: lighter;\n",
              "  color: var(--sklearn-color-text-muted);\n",
              "}\n",
              "\n",
              "#sk-container-id-3 label.sk-toggleable__label-arrow:before {\n",
              "  /* Arrow on the left of the label */\n",
              "  content: \"▸\";\n",
              "  float: left;\n",
              "  margin-right: 0.25em;\n",
              "  color: var(--sklearn-color-icon);\n",
              "}\n",
              "\n",
              "#sk-container-id-3 label.sk-toggleable__label-arrow:hover:before {\n",
              "  color: var(--sklearn-color-text);\n",
              "}\n",
              "\n",
              "/* Toggleable content - dropdown */\n",
              "\n",
              "#sk-container-id-3 div.sk-toggleable__content {\n",
              "  max-height: 0;\n",
              "  max-width: 0;\n",
              "  overflow: hidden;\n",
              "  text-align: left;\n",
              "  /* unfitted */\n",
              "  background-color: var(--sklearn-color-unfitted-level-0);\n",
              "}\n",
              "\n",
              "#sk-container-id-3 div.sk-toggleable__content.fitted {\n",
              "  /* fitted */\n",
              "  background-color: var(--sklearn-color-fitted-level-0);\n",
              "}\n",
              "\n",
              "#sk-container-id-3 div.sk-toggleable__content pre {\n",
              "  margin: 0.2em;\n",
              "  border-radius: 0.25em;\n",
              "  color: var(--sklearn-color-text);\n",
              "  /* unfitted */\n",
              "  background-color: var(--sklearn-color-unfitted-level-0);\n",
              "}\n",
              "\n",
              "#sk-container-id-3 div.sk-toggleable__content.fitted pre {\n",
              "  /* unfitted */\n",
              "  background-color: var(--sklearn-color-fitted-level-0);\n",
              "}\n",
              "\n",
              "#sk-container-id-3 input.sk-toggleable__control:checked~div.sk-toggleable__content {\n",
              "  /* Expand drop-down */\n",
              "  max-height: 200px;\n",
              "  max-width: 100%;\n",
              "  overflow: auto;\n",
              "}\n",
              "\n",
              "#sk-container-id-3 input.sk-toggleable__control:checked~label.sk-toggleable__label-arrow:before {\n",
              "  content: \"▾\";\n",
              "}\n",
              "\n",
              "/* Pipeline/ColumnTransformer-specific style */\n",
              "\n",
              "#sk-container-id-3 div.sk-label input.sk-toggleable__control:checked~label.sk-toggleable__label {\n",
              "  color: var(--sklearn-color-text);\n",
              "  background-color: var(--sklearn-color-unfitted-level-2);\n",
              "}\n",
              "\n",
              "#sk-container-id-3 div.sk-label.fitted input.sk-toggleable__control:checked~label.sk-toggleable__label {\n",
              "  background-color: var(--sklearn-color-fitted-level-2);\n",
              "}\n",
              "\n",
              "/* Estimator-specific style */\n",
              "\n",
              "/* Colorize estimator box */\n",
              "#sk-container-id-3 div.sk-estimator input.sk-toggleable__control:checked~label.sk-toggleable__label {\n",
              "  /* unfitted */\n",
              "  background-color: var(--sklearn-color-unfitted-level-2);\n",
              "}\n",
              "\n",
              "#sk-container-id-3 div.sk-estimator.fitted input.sk-toggleable__control:checked~label.sk-toggleable__label {\n",
              "  /* fitted */\n",
              "  background-color: var(--sklearn-color-fitted-level-2);\n",
              "}\n",
              "\n",
              "#sk-container-id-3 div.sk-label label.sk-toggleable__label,\n",
              "#sk-container-id-3 div.sk-label label {\n",
              "  /* The background is the default theme color */\n",
              "  color: var(--sklearn-color-text-on-default-background);\n",
              "}\n",
              "\n",
              "/* On hover, darken the color of the background */\n",
              "#sk-container-id-3 div.sk-label:hover label.sk-toggleable__label {\n",
              "  color: var(--sklearn-color-text);\n",
              "  background-color: var(--sklearn-color-unfitted-level-2);\n",
              "}\n",
              "\n",
              "/* Label box, darken color on hover, fitted */\n",
              "#sk-container-id-3 div.sk-label.fitted:hover label.sk-toggleable__label.fitted {\n",
              "  color: var(--sklearn-color-text);\n",
              "  background-color: var(--sklearn-color-fitted-level-2);\n",
              "}\n",
              "\n",
              "/* Estimator label */\n",
              "\n",
              "#sk-container-id-3 div.sk-label label {\n",
              "  font-family: monospace;\n",
              "  font-weight: bold;\n",
              "  display: inline-block;\n",
              "  line-height: 1.2em;\n",
              "}\n",
              "\n",
              "#sk-container-id-3 div.sk-label-container {\n",
              "  text-align: center;\n",
              "}\n",
              "\n",
              "/* Estimator-specific */\n",
              "#sk-container-id-3 div.sk-estimator {\n",
              "  font-family: monospace;\n",
              "  border: 1px dotted var(--sklearn-color-border-box);\n",
              "  border-radius: 0.25em;\n",
              "  box-sizing: border-box;\n",
              "  margin-bottom: 0.5em;\n",
              "  /* unfitted */\n",
              "  background-color: var(--sklearn-color-unfitted-level-0);\n",
              "}\n",
              "\n",
              "#sk-container-id-3 div.sk-estimator.fitted {\n",
              "  /* fitted */\n",
              "  background-color: var(--sklearn-color-fitted-level-0);\n",
              "}\n",
              "\n",
              "/* on hover */\n",
              "#sk-container-id-3 div.sk-estimator:hover {\n",
              "  /* unfitted */\n",
              "  background-color: var(--sklearn-color-unfitted-level-2);\n",
              "}\n",
              "\n",
              "#sk-container-id-3 div.sk-estimator.fitted:hover {\n",
              "  /* fitted */\n",
              "  background-color: var(--sklearn-color-fitted-level-2);\n",
              "}\n",
              "\n",
              "/* Specification for estimator info (e.g. \"i\" and \"?\") */\n",
              "\n",
              "/* Common style for \"i\" and \"?\" */\n",
              "\n",
              ".sk-estimator-doc-link,\n",
              "a:link.sk-estimator-doc-link,\n",
              "a:visited.sk-estimator-doc-link {\n",
              "  float: right;\n",
              "  font-size: smaller;\n",
              "  line-height: 1em;\n",
              "  font-family: monospace;\n",
              "  background-color: var(--sklearn-color-background);\n",
              "  border-radius: 1em;\n",
              "  height: 1em;\n",
              "  width: 1em;\n",
              "  text-decoration: none !important;\n",
              "  margin-left: 0.5em;\n",
              "  text-align: center;\n",
              "  /* unfitted */\n",
              "  border: var(--sklearn-color-unfitted-level-1) 1pt solid;\n",
              "  color: var(--sklearn-color-unfitted-level-1);\n",
              "}\n",
              "\n",
              ".sk-estimator-doc-link.fitted,\n",
              "a:link.sk-estimator-doc-link.fitted,\n",
              "a:visited.sk-estimator-doc-link.fitted {\n",
              "  /* fitted */\n",
              "  border: var(--sklearn-color-fitted-level-1) 1pt solid;\n",
              "  color: var(--sklearn-color-fitted-level-1);\n",
              "}\n",
              "\n",
              "/* On hover */\n",
              "div.sk-estimator:hover .sk-estimator-doc-link:hover,\n",
              ".sk-estimator-doc-link:hover,\n",
              "div.sk-label-container:hover .sk-estimator-doc-link:hover,\n",
              ".sk-estimator-doc-link:hover {\n",
              "  /* unfitted */\n",
              "  background-color: var(--sklearn-color-unfitted-level-3);\n",
              "  color: var(--sklearn-color-background);\n",
              "  text-decoration: none;\n",
              "}\n",
              "\n",
              "div.sk-estimator.fitted:hover .sk-estimator-doc-link.fitted:hover,\n",
              ".sk-estimator-doc-link.fitted:hover,\n",
              "div.sk-label-container:hover .sk-estimator-doc-link.fitted:hover,\n",
              ".sk-estimator-doc-link.fitted:hover {\n",
              "  /* fitted */\n",
              "  background-color: var(--sklearn-color-fitted-level-3);\n",
              "  color: var(--sklearn-color-background);\n",
              "  text-decoration: none;\n",
              "}\n",
              "\n",
              "/* Span, style for the box shown on hovering the info icon */\n",
              ".sk-estimator-doc-link span {\n",
              "  display: none;\n",
              "  z-index: 9999;\n",
              "  position: relative;\n",
              "  font-weight: normal;\n",
              "  right: .2ex;\n",
              "  padding: .5ex;\n",
              "  margin: .5ex;\n",
              "  width: min-content;\n",
              "  min-width: 20ex;\n",
              "  max-width: 50ex;\n",
              "  color: var(--sklearn-color-text);\n",
              "  box-shadow: 2pt 2pt 4pt #999;\n",
              "  /* unfitted */\n",
              "  background: var(--sklearn-color-unfitted-level-0);\n",
              "  border: .5pt solid var(--sklearn-color-unfitted-level-3);\n",
              "}\n",
              "\n",
              ".sk-estimator-doc-link.fitted span {\n",
              "  /* fitted */\n",
              "  background: var(--sklearn-color-fitted-level-0);\n",
              "  border: var(--sklearn-color-fitted-level-3);\n",
              "}\n",
              "\n",
              ".sk-estimator-doc-link:hover span {\n",
              "  display: block;\n",
              "}\n",
              "\n",
              "/* \"?\"-specific style due to the `<a>` HTML tag */\n",
              "\n",
              "#sk-container-id-3 a.estimator_doc_link {\n",
              "  float: right;\n",
              "  font-size: 1rem;\n",
              "  line-height: 1em;\n",
              "  font-family: monospace;\n",
              "  background-color: var(--sklearn-color-background);\n",
              "  border-radius: 1rem;\n",
              "  height: 1rem;\n",
              "  width: 1rem;\n",
              "  text-decoration: none;\n",
              "  /* unfitted */\n",
              "  color: var(--sklearn-color-unfitted-level-1);\n",
              "  border: var(--sklearn-color-unfitted-level-1) 1pt solid;\n",
              "}\n",
              "\n",
              "#sk-container-id-3 a.estimator_doc_link.fitted {\n",
              "  /* fitted */\n",
              "  border: var(--sklearn-color-fitted-level-1) 1pt solid;\n",
              "  color: var(--sklearn-color-fitted-level-1);\n",
              "}\n",
              "\n",
              "/* On hover */\n",
              "#sk-container-id-3 a.estimator_doc_link:hover {\n",
              "  /* unfitted */\n",
              "  background-color: var(--sklearn-color-unfitted-level-3);\n",
              "  color: var(--sklearn-color-background);\n",
              "  text-decoration: none;\n",
              "}\n",
              "\n",
              "#sk-container-id-3 a.estimator_doc_link.fitted:hover {\n",
              "  /* fitted */\n",
              "  background-color: var(--sklearn-color-fitted-level-3);\n",
              "}\n",
              "</style><div id=\"sk-container-id-3\" class=\"sk-top-container\"><div class=\"sk-text-repr-fallback\"><pre>SVC(kernel=&#x27;linear&#x27;)</pre><b>In a Jupyter environment, please rerun this cell to show the HTML representation or trust the notebook. <br />On GitHub, the HTML representation is unable to render, please try loading this page with nbviewer.org.</b></div><div class=\"sk-container\" hidden><div class=\"sk-item\"><div class=\"sk-estimator fitted sk-toggleable\"><input class=\"sk-toggleable__control sk-hidden--visually\" id=\"sk-estimator-id-3\" type=\"checkbox\" checked><label for=\"sk-estimator-id-3\" class=\"sk-toggleable__label fitted sk-toggleable__label-arrow\"><div><div>SVC</div></div><div><a class=\"sk-estimator-doc-link fitted\" rel=\"noreferrer\" target=\"_blank\" href=\"https://scikit-learn.org/1.6/modules/generated/sklearn.svm.SVC.html\">?<span>Documentation for SVC</span></a><span class=\"sk-estimator-doc-link fitted\">i<span>Fitted</span></span></div></label><div class=\"sk-toggleable__content fitted\"><pre>SVC(kernel=&#x27;linear&#x27;)</pre></div> </div></div></div></div>"
            ]
          },
          "metadata": {},
          "execution_count": 25
        }
      ]
    },
    {
      "cell_type": "code",
      "source": [
        "# Function to plot decision boundary\n",
        "def plot_decision_boundary(model, X, y, scaler, title):\n",
        "    # Create mesh grid\n",
        "    x_min, x_max = X['Feature1'].min() - 1, X['Feature1'].max() + 1\n",
        "    y_min, y_max = X['Feature2'].min() - 1, X['Feature2'].max() + 1\n",
        "    xx, yy = np.meshgrid(np.linspace(x_min, x_max, 300),\n",
        "                         np.linspace(y_min, y_max, 300))\n",
        "\n",
        "    # Prepare grid for prediction\n",
        "    grid = np.c_[xx.ravel(), yy.ravel()]\n",
        "    grid_scaled = scaler.transform(grid)\n",
        "    Z = model.predict(grid_scaled).reshape(xx.shape)\n",
        "\n",
        "    # Plot\n",
        "    plt.figure(figsize=(8, 6))\n",
        "    plt.contourf(xx, yy, Z, cmap=plt.cm.coolwarm, alpha=0.2)\n",
        "    plt.scatter(X[y == 0]['Feature1'], X[y == 0]['Feature2'], color='red', label='Class 0')\n",
        "    plt.scatter(X[y == 1]['Feature1'], X[y == 1]['Feature2'], color='blue', label='Class 1')\n",
        "    plt.title(title)\n",
        "    plt.xlabel(\"Feature 1\")\n",
        "    plt.ylabel(\"Feature 2\")\n",
        "    plt.legend()\n",
        "    plt.grid(True)\n",
        "    plt.show()"
      ],
      "metadata": {
        "id": "If9fkYmFCXgJ"
      },
      "execution_count": null,
      "outputs": []
    },
    {
      "cell_type": "code",
      "source": [
        "# Show decision boundary\n",
        "plot_decision_boundary(svm, X_train, y_train, scaler, \"SVM Decision Boundary (Linear Kernel)\")"
      ],
      "metadata": {
        "colab": {
          "base_uri": "https://localhost:8080/",
          "height": 619
        },
        "id": "6VC4rPmLDucP",
        "outputId": "4b41aeff-6c9c-4147-a90a-3450a9603805"
      },
      "execution_count": null,
      "outputs": [
        {
          "output_type": "stream",
          "name": "stderr",
          "text": [
            "/usr/local/lib/python3.11/dist-packages/sklearn/utils/validation.py:2739: UserWarning: X does not have valid feature names, but StandardScaler was fitted with feature names\n",
            "  warnings.warn(\n"
          ]
        },
        {
          "output_type": "display_data",
          "data": {
            "text/plain": [
              "<Figure size 800x600 with 1 Axes>"
            ],
            "image/png": "[encoded data removed]"
          },
          "metadata": {}
        }
      ]
    },
    {
      "cell_type": "code",
      "source": [
        "# Predict on test data\n",
        "y_pred = svm.predict(X_test_scaled)\n",
        "\n",
        "# Print predictions alongside actual labels\n",
        "print(\"Test Data Predictions vs Actual Labels:\")\n",
        "for pred, actual in zip(y_pred, y_test):\n",
        "    print(f\"Predicted: {pred}, Actual: {actual}\")"
      ],
      "metadata": {
        "colab": {
          "base_uri": "https://localhost:8080/"
        },
        "id": "4iPkxupBD1r0",
        "outputId": "fa8bef6c-45f7-47d9-ebe9-7f220073efe7"
      },
      "execution_count": null,
      "outputs": [
        {
          "output_type": "stream",
          "name": "stdout",
          "text": [
            "Test Data Predictions vs Actual Labels:\n",
            "Predicted: 1, Actual: 1\n",
            "Predicted: 1, Actual: 1\n",
            "Predicted: 1, Actual: 1\n",
            "Predicted: 0, Actual: 0\n",
            "Predicted: 0, Actual: 0\n",
            "Predicted: 0, Actual: 0\n",
            "Predicted: 0, Actual: 0\n",
            "Predicted: 1, Actual: 1\n",
            "Predicted: 0, Actual: 0\n",
            "Predicted: 0, Actual: 0\n",
            "Predicted: 0, Actual: 0\n",
            "Predicted: 0, Actual: 0\n",
            "Predicted: 1, Actual: 1\n",
            "Predicted: 0, Actual: 0\n",
            "Predicted: 1, Actual: 1\n",
            "Predicted: 0, Actual: 0\n",
            "Predicted: 1, Actual: 1\n",
            "Predicted: 1, Actual: 1\n",
            "Predicted: 0, Actual: 0\n",
            "Predicted: 0, Actual: 0\n"
          ]
        }
      ]
    },
    {
      "cell_type": "code",
      "source": [
        "# Calculate metrics\n",
        "accuracy = accuracy_score(y_test, y_pred)\n",
        "precision = precision_score(y_test, y_pred)\n",
        "recall = recall_score(y_test, y_pred)\n",
        "f1 = f1_score(y_test, y_pred)\n",
        "\n",
        "print(\"\\nEvaluation Metrics on Test Data:\")\n",
        "print(f\"Accuracy:  {accuracy:.4f}\")\n",
        "print(f\"Precision: {precision:.4f}\")\n",
        "print(f\"Recall:    {recall:.4f}\")\n",
        "print(f\"F1 Score:  {f1:.4f}\")\n",
        "\n",
        "# Detailed classification report\n",
        "print(\"\\nClassification Report:\")\n",
        "print(classification_report(y_test, y_pred))"
      ],
      "metadata": {
        "colab": {
          "base_uri": "https://localhost:8080/"
        },
        "id": "cbIPGl7pFTEq",
        "outputId": "18cfef32-b2a9-41a7-cb85-88aec09ac7f0"
      },
      "execution_count": null,
      "outputs": [
        {
          "output_type": "stream",
          "name": "stdout",
          "text": [
            "\n",
            "Evaluation Metrics on Test Data:\n",
            "Accuracy:  1.0000\n",
            "Precision: 1.0000\n",
            "Recall:    1.0000\n",
            "F1 Score:  1.0000\n",
            "\n",
            "Classification Report:\n",
            "              precision    recall  f1-score   support\n",
            "\n",
            "           0       1.00      1.00      1.00        12\n",
            "           1       1.00      1.00      1.00         8\n",
            "\n",
            "    accuracy                           1.00        20\n",
            "   macro avg       1.00      1.00      1.00        20\n",
            "weighted avg       1.00      1.00      1.00        20\n",
            "\n"
          ]
        }
      ]
    }
  ],
  "metadata": {
    "colab": {
      "collapsed_sections": [
        "KDGiGi8Kfpy4",
        "U_BOm3smf3MP",
        "J7Ta4WhPg2SQ",
        "IiDfv0Lbkboi",
        "fabMytIkkgZJ",
        "MVUXBYwtkoNf",
        "rJyQLAXXlAaO",
        "IeJVFP9smfPr",
        "PRIA_HNZnqrn",
        "0yrk21LboA6r",
        "9uQ3R58JouAt",
        "8_Fwx0QWpzBO",
        "yaktxqrCqFEg",
        "Xv4uQWUVqnOi",
        "Djxn24MgrONX",
        "ypFUd_79uP8Y",
        "m7J18xngukPU",
        "wftqeNoMvBWO",
        "ZA2T38dixTdD",
        "7DPgct1e4yTW",
        "T7aQbmDm6OfG",
        "3HWtOcFe7MZ7",
        "e4WHjlVJ9EBv",
        "UfukwVDy9M3V",
        "ip_pIYbV9fCL",
        "WI9eroXI_uVM",
        "8NmtSOP1AlEz",
        "QOgXppmlBQ9f",
        "4NWfCs0xy0sh",
        "KvSqDmRx0huQ",
        "pZZwSHrv4FGv",
        "MgJ1wbWiI-C-",
        "lW_JOuDvECXP",
        "fBEWasgGGt63",
        "GXODp7QZIAAq",
        "_JWJcSXXJKHk",
        "PYAl6jbcYHxl",
        "hbcsXscAHYzX",
        "gLGCaUd7H5TA",
        "8GxtnmUoH-wl",
        "fJDFFcoNKBHN",
        "px28lJnjNdtL",
        "-5U_D-hNOyue",
        "orbdw3iFPLxJ",
        "Ankhqx-po-LY",
        "wPq5fqmUpLDk",
        "LpqsFS2G_oD3"
      ],
      "provenance": [],
      "toc_visible": true
    },
    "kernelspec": {
      "display_name": "Python 3",
      "name": "python3"
    }
  },
  "nbformat": 4,
  "nbformat_minor": 0
}